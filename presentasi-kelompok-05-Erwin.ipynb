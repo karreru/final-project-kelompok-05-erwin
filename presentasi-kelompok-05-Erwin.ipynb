{
 "cells": [
  {
   "cell_type": "markdown",
   "id": "WJBU1JeWGjC_",
   "metadata": {
    "id": "WJBU1JeWGjC_"
   },
   "source": [
    "## Package"
   ]
  },
  {
   "cell_type": "code",
   "execution_count": 106,
   "id": "9ee32c35",
   "metadata": {
    "id": "9ee32c35"
   },
   "outputs": [],
   "source": [
    "import pandas as pd\n",
    "import numpy as np\n",
    "import seaborn as sns\n",
    "import matplotlib.pyplot as plt\n",
    "from scipy.stats import norm\n",
    "from sklearn.tree import DecisionTreeClassifier\n",
    "from sklearn.feature_selection import SelectKBest, f_classif, chi2\n",
    "from sklearn.preprocessing import StandardScaler\n",
    "from sklearn import tree\n",
    "from sklearn.tree import export_text\n",
    "from sklearn.model_selection import train_test_split, cross_val_score\n",
    "from sklearn import metrics\n",
    "from sklearn.model_selection import GridSearchCV\n",
    "from sklearn.preprocessing import StandardScaler\n",
    "from sklearn.model_selection import train_test_split\n",
    "from sklearn.metrics import confusion_matrix, accuracy_score, precision_score, recall_score, f1_score"
   ]
  },
  {
   "cell_type": "markdown",
   "id": "MZyJCbZJGmZk",
   "metadata": {
    "id": "MZyJCbZJGmZk"
   },
   "source": [
    "## Read Dataset"
   ]
  },
  {
   "cell_type": "code",
   "execution_count": null,
   "id": "c8b9915f",
   "metadata": {
    "colab": {
     "base_uri": "https://localhost:8080/",
     "height": 661
    },
    "id": "c8b9915f",
    "outputId": "0134cf19-5e93-4a7f-9f6a-f3ccf9ac3e90"
   },
   "outputs": [],
   "source": [
    "df = pd.read_csv(r\"E:\\MBKM\\telcochurn.csv\")\n",
    "df"
   ]
  },
  {
   "cell_type": "markdown",
   "id": "rPyy0XHkG6Z7",
   "metadata": {
    "id": "rPyy0XHkG6Z7"
   },
   "source": [
    "#PreProcessing"
   ]
  },
  {
   "cell_type": "markdown",
   "id": "-WoGhWDeGpNL",
   "metadata": {
    "id": "-WoGhWDeGpNL"
   },
   "source": [
    "###Checking NaN values"
   ]
  },
  {
   "cell_type": "code",
   "execution_count": 108,
   "id": "b41cdf02",
   "metadata": {
    "colab": {
     "base_uri": "https://localhost:8080/"
    },
    "id": "b41cdf02",
    "outputId": "94319bd3-52c0-4bac-842f-05f3c5898ea3"
   },
   "outputs": [
    {
     "data": {
      "text/plain": [
       "customerID          0\n",
       "gender              0\n",
       "SeniorCitizen       0\n",
       "Partner             0\n",
       "Dependents          0\n",
       "tenure              0\n",
       "PhoneService        0\n",
       "MultipleLines       0\n",
       "InternetService     0\n",
       "OnlineSecurity      0\n",
       "OnlineBackup        0\n",
       "DeviceProtection    0\n",
       "TechSupport         0\n",
       "StreamingTV         0\n",
       "StreamingMovies     0\n",
       "Contract            0\n",
       "PaperlessBilling    0\n",
       "PaymentMethod       0\n",
       "MonthlyCharges      0\n",
       "TotalCharges        0\n",
       "Churn               0\n",
       "dtype: int64"
      ]
     },
     "execution_count": 108,
     "metadata": {},
     "output_type": "execute_result"
    }
   ],
   "source": [
    "df.isna().sum()"
   ]
  },
  {
   "cell_type": "markdown",
   "id": "Jc1TYXshGwPP",
   "metadata": {
    "id": "Jc1TYXshGwPP"
   },
   "source": [
    "#### Convert TotalCharges and SeniorCitizen into numeric and object type"
   ]
  },
  {
   "cell_type": "code",
   "execution_count": 109,
   "id": "310cc86d",
   "metadata": {
    "id": "310cc86d"
   },
   "outputs": [],
   "source": [
    "df['TotalCharges']=pd.to_numeric(df['TotalCharges'], errors='coerce')\n",
    "df['SeniorCitizen']=df['SeniorCitizen'].astype(object)"
   ]
  },
  {
   "cell_type": "code",
   "execution_count": 110,
   "id": "e6938aa8",
   "metadata": {
    "colab": {
     "base_uri": "https://localhost:8080/"
    },
    "id": "e6938aa8",
    "outputId": "4e19fb4f-f085-4f1b-ce9a-214432886587"
   },
   "outputs": [
    {
     "name": "stdout",
     "output_type": "stream",
     "text": [
      "<class 'pandas.core.frame.DataFrame'>\n",
      "RangeIndex: 7043 entries, 0 to 7042\n",
      "Data columns (total 21 columns):\n",
      " #   Column            Non-Null Count  Dtype  \n",
      "---  ------            --------------  -----  \n",
      " 0   customerID        7043 non-null   object \n",
      " 1   gender            7043 non-null   object \n",
      " 2   SeniorCitizen     7043 non-null   object \n",
      " 3   Partner           7043 non-null   object \n",
      " 4   Dependents        7043 non-null   object \n",
      " 5   tenure            7043 non-null   int64  \n",
      " 6   PhoneService      7043 non-null   object \n",
      " 7   MultipleLines     7043 non-null   object \n",
      " 8   InternetService   7043 non-null   object \n",
      " 9   OnlineSecurity    7043 non-null   object \n",
      " 10  OnlineBackup      7043 non-null   object \n",
      " 11  DeviceProtection  7043 non-null   object \n",
      " 12  TechSupport       7043 non-null   object \n",
      " 13  StreamingTV       7043 non-null   object \n",
      " 14  StreamingMovies   7043 non-null   object \n",
      " 15  Contract          7043 non-null   object \n",
      " 16  PaperlessBilling  7043 non-null   object \n",
      " 17  PaymentMethod     7043 non-null   object \n",
      " 18  MonthlyCharges    7043 non-null   float64\n",
      " 19  TotalCharges      7032 non-null   float64\n",
      " 20  Churn             7043 non-null   object \n",
      "dtypes: float64(2), int64(1), object(18)\n",
      "memory usage: 1.1+ MB\n"
     ]
    }
   ],
   "source": [
    "df.info()"
   ]
  },
  {
   "cell_type": "markdown",
   "id": "fUjHDscjHM0-",
   "metadata": {
    "id": "fUjHDscjHM0-"
   },
   "source": [
    "####Checking Nan Values in TotalCharges before conducting an Action"
   ]
  },
  {
   "cell_type": "code",
   "execution_count": 111,
   "id": "4e9c0ea2",
   "metadata": {
    "colab": {
     "base_uri": "https://localhost:8080/",
     "height": 679
    },
    "id": "4e9c0ea2",
    "outputId": "69b91cb6-2522-4fd7-8d09-218768376ff3"
   },
   "outputs": [
    {
     "data": {
      "text/html": [
       "<div>\n",
       "<style scoped>\n",
       "    .dataframe tbody tr th:only-of-type {\n",
       "        vertical-align: middle;\n",
       "    }\n",
       "\n",
       "    .dataframe tbody tr th {\n",
       "        vertical-align: top;\n",
       "    }\n",
       "\n",
       "    .dataframe thead th {\n",
       "        text-align: right;\n",
       "    }\n",
       "</style>\n",
       "<table border=\"1\" class=\"dataframe\">\n",
       "  <thead>\n",
       "    <tr style=\"text-align: right;\">\n",
       "      <th></th>\n",
       "      <th>customerID</th>\n",
       "      <th>gender</th>\n",
       "      <th>SeniorCitizen</th>\n",
       "      <th>Partner</th>\n",
       "      <th>Dependents</th>\n",
       "      <th>tenure</th>\n",
       "      <th>PhoneService</th>\n",
       "      <th>MultipleLines</th>\n",
       "      <th>InternetService</th>\n",
       "      <th>OnlineSecurity</th>\n",
       "      <th>...</th>\n",
       "      <th>DeviceProtection</th>\n",
       "      <th>TechSupport</th>\n",
       "      <th>StreamingTV</th>\n",
       "      <th>StreamingMovies</th>\n",
       "      <th>Contract</th>\n",
       "      <th>PaperlessBilling</th>\n",
       "      <th>PaymentMethod</th>\n",
       "      <th>MonthlyCharges</th>\n",
       "      <th>TotalCharges</th>\n",
       "      <th>Churn</th>\n",
       "    </tr>\n",
       "  </thead>\n",
       "  <tbody>\n",
       "    <tr>\n",
       "      <th>488</th>\n",
       "      <td>4472-LVYGI</td>\n",
       "      <td>Female</td>\n",
       "      <td>0</td>\n",
       "      <td>Yes</td>\n",
       "      <td>Yes</td>\n",
       "      <td>0</td>\n",
       "      <td>No</td>\n",
       "      <td>No phone service</td>\n",
       "      <td>DSL</td>\n",
       "      <td>Yes</td>\n",
       "      <td>...</td>\n",
       "      <td>Yes</td>\n",
       "      <td>Yes</td>\n",
       "      <td>Yes</td>\n",
       "      <td>No</td>\n",
       "      <td>Two year</td>\n",
       "      <td>Yes</td>\n",
       "      <td>Bank transfer (automatic)</td>\n",
       "      <td>52.55</td>\n",
       "      <td>NaN</td>\n",
       "      <td>No</td>\n",
       "    </tr>\n",
       "    <tr>\n",
       "      <th>753</th>\n",
       "      <td>3115-CZMZD</td>\n",
       "      <td>Male</td>\n",
       "      <td>0</td>\n",
       "      <td>No</td>\n",
       "      <td>Yes</td>\n",
       "      <td>0</td>\n",
       "      <td>Yes</td>\n",
       "      <td>No</td>\n",
       "      <td>No</td>\n",
       "      <td>No internet service</td>\n",
       "      <td>...</td>\n",
       "      <td>No internet service</td>\n",
       "      <td>No internet service</td>\n",
       "      <td>No internet service</td>\n",
       "      <td>No internet service</td>\n",
       "      <td>Two year</td>\n",
       "      <td>No</td>\n",
       "      <td>Mailed check</td>\n",
       "      <td>20.25</td>\n",
       "      <td>NaN</td>\n",
       "      <td>No</td>\n",
       "    </tr>\n",
       "    <tr>\n",
       "      <th>936</th>\n",
       "      <td>5709-LVOEQ</td>\n",
       "      <td>Female</td>\n",
       "      <td>0</td>\n",
       "      <td>Yes</td>\n",
       "      <td>Yes</td>\n",
       "      <td>0</td>\n",
       "      <td>Yes</td>\n",
       "      <td>No</td>\n",
       "      <td>DSL</td>\n",
       "      <td>Yes</td>\n",
       "      <td>...</td>\n",
       "      <td>Yes</td>\n",
       "      <td>No</td>\n",
       "      <td>Yes</td>\n",
       "      <td>Yes</td>\n",
       "      <td>Two year</td>\n",
       "      <td>No</td>\n",
       "      <td>Mailed check</td>\n",
       "      <td>80.85</td>\n",
       "      <td>NaN</td>\n",
       "      <td>No</td>\n",
       "    </tr>\n",
       "    <tr>\n",
       "      <th>1082</th>\n",
       "      <td>4367-NUYAO</td>\n",
       "      <td>Male</td>\n",
       "      <td>0</td>\n",
       "      <td>Yes</td>\n",
       "      <td>Yes</td>\n",
       "      <td>0</td>\n",
       "      <td>Yes</td>\n",
       "      <td>Yes</td>\n",
       "      <td>No</td>\n",
       "      <td>No internet service</td>\n",
       "      <td>...</td>\n",
       "      <td>No internet service</td>\n",
       "      <td>No internet service</td>\n",
       "      <td>No internet service</td>\n",
       "      <td>No internet service</td>\n",
       "      <td>Two year</td>\n",
       "      <td>No</td>\n",
       "      <td>Mailed check</td>\n",
       "      <td>25.75</td>\n",
       "      <td>NaN</td>\n",
       "      <td>No</td>\n",
       "    </tr>\n",
       "    <tr>\n",
       "      <th>1340</th>\n",
       "      <td>1371-DWPAZ</td>\n",
       "      <td>Female</td>\n",
       "      <td>0</td>\n",
       "      <td>Yes</td>\n",
       "      <td>Yes</td>\n",
       "      <td>0</td>\n",
       "      <td>No</td>\n",
       "      <td>No phone service</td>\n",
       "      <td>DSL</td>\n",
       "      <td>Yes</td>\n",
       "      <td>...</td>\n",
       "      <td>Yes</td>\n",
       "      <td>Yes</td>\n",
       "      <td>Yes</td>\n",
       "      <td>No</td>\n",
       "      <td>Two year</td>\n",
       "      <td>No</td>\n",
       "      <td>Credit card (automatic)</td>\n",
       "      <td>56.05</td>\n",
       "      <td>NaN</td>\n",
       "      <td>No</td>\n",
       "    </tr>\n",
       "    <tr>\n",
       "      <th>3331</th>\n",
       "      <td>7644-OMVMY</td>\n",
       "      <td>Male</td>\n",
       "      <td>0</td>\n",
       "      <td>Yes</td>\n",
       "      <td>Yes</td>\n",
       "      <td>0</td>\n",
       "      <td>Yes</td>\n",
       "      <td>No</td>\n",
       "      <td>No</td>\n",
       "      <td>No internet service</td>\n",
       "      <td>...</td>\n",
       "      <td>No internet service</td>\n",
       "      <td>No internet service</td>\n",
       "      <td>No internet service</td>\n",
       "      <td>No internet service</td>\n",
       "      <td>Two year</td>\n",
       "      <td>No</td>\n",
       "      <td>Mailed check</td>\n",
       "      <td>19.85</td>\n",
       "      <td>NaN</td>\n",
       "      <td>No</td>\n",
       "    </tr>\n",
       "    <tr>\n",
       "      <th>3826</th>\n",
       "      <td>3213-VVOLG</td>\n",
       "      <td>Male</td>\n",
       "      <td>0</td>\n",
       "      <td>Yes</td>\n",
       "      <td>Yes</td>\n",
       "      <td>0</td>\n",
       "      <td>Yes</td>\n",
       "      <td>Yes</td>\n",
       "      <td>No</td>\n",
       "      <td>No internet service</td>\n",
       "      <td>...</td>\n",
       "      <td>No internet service</td>\n",
       "      <td>No internet service</td>\n",
       "      <td>No internet service</td>\n",
       "      <td>No internet service</td>\n",
       "      <td>Two year</td>\n",
       "      <td>No</td>\n",
       "      <td>Mailed check</td>\n",
       "      <td>25.35</td>\n",
       "      <td>NaN</td>\n",
       "      <td>No</td>\n",
       "    </tr>\n",
       "    <tr>\n",
       "      <th>4380</th>\n",
       "      <td>2520-SGTTA</td>\n",
       "      <td>Female</td>\n",
       "      <td>0</td>\n",
       "      <td>Yes</td>\n",
       "      <td>Yes</td>\n",
       "      <td>0</td>\n",
       "      <td>Yes</td>\n",
       "      <td>No</td>\n",
       "      <td>No</td>\n",
       "      <td>No internet service</td>\n",
       "      <td>...</td>\n",
       "      <td>No internet service</td>\n",
       "      <td>No internet service</td>\n",
       "      <td>No internet service</td>\n",
       "      <td>No internet service</td>\n",
       "      <td>Two year</td>\n",
       "      <td>No</td>\n",
       "      <td>Mailed check</td>\n",
       "      <td>20.00</td>\n",
       "      <td>NaN</td>\n",
       "      <td>No</td>\n",
       "    </tr>\n",
       "    <tr>\n",
       "      <th>5218</th>\n",
       "      <td>2923-ARZLG</td>\n",
       "      <td>Male</td>\n",
       "      <td>0</td>\n",
       "      <td>Yes</td>\n",
       "      <td>Yes</td>\n",
       "      <td>0</td>\n",
       "      <td>Yes</td>\n",
       "      <td>No</td>\n",
       "      <td>No</td>\n",
       "      <td>No internet service</td>\n",
       "      <td>...</td>\n",
       "      <td>No internet service</td>\n",
       "      <td>No internet service</td>\n",
       "      <td>No internet service</td>\n",
       "      <td>No internet service</td>\n",
       "      <td>One year</td>\n",
       "      <td>Yes</td>\n",
       "      <td>Mailed check</td>\n",
       "      <td>19.70</td>\n",
       "      <td>NaN</td>\n",
       "      <td>No</td>\n",
       "    </tr>\n",
       "    <tr>\n",
       "      <th>6670</th>\n",
       "      <td>4075-WKNIU</td>\n",
       "      <td>Female</td>\n",
       "      <td>0</td>\n",
       "      <td>Yes</td>\n",
       "      <td>Yes</td>\n",
       "      <td>0</td>\n",
       "      <td>Yes</td>\n",
       "      <td>Yes</td>\n",
       "      <td>DSL</td>\n",
       "      <td>No</td>\n",
       "      <td>...</td>\n",
       "      <td>Yes</td>\n",
       "      <td>Yes</td>\n",
       "      <td>Yes</td>\n",
       "      <td>No</td>\n",
       "      <td>Two year</td>\n",
       "      <td>No</td>\n",
       "      <td>Mailed check</td>\n",
       "      <td>73.35</td>\n",
       "      <td>NaN</td>\n",
       "      <td>No</td>\n",
       "    </tr>\n",
       "    <tr>\n",
       "      <th>6754</th>\n",
       "      <td>2775-SEFEE</td>\n",
       "      <td>Male</td>\n",
       "      <td>0</td>\n",
       "      <td>No</td>\n",
       "      <td>Yes</td>\n",
       "      <td>0</td>\n",
       "      <td>Yes</td>\n",
       "      <td>Yes</td>\n",
       "      <td>DSL</td>\n",
       "      <td>Yes</td>\n",
       "      <td>...</td>\n",
       "      <td>No</td>\n",
       "      <td>Yes</td>\n",
       "      <td>No</td>\n",
       "      <td>No</td>\n",
       "      <td>Two year</td>\n",
       "      <td>Yes</td>\n",
       "      <td>Bank transfer (automatic)</td>\n",
       "      <td>61.90</td>\n",
       "      <td>NaN</td>\n",
       "      <td>No</td>\n",
       "    </tr>\n",
       "  </tbody>\n",
       "</table>\n",
       "<p>11 rows × 21 columns</p>\n",
       "</div>"
      ],
      "text/plain": [
       "      customerID  gender SeniorCitizen Partner Dependents  tenure  \\\n",
       "488   4472-LVYGI  Female             0     Yes        Yes       0   \n",
       "753   3115-CZMZD    Male             0      No        Yes       0   \n",
       "936   5709-LVOEQ  Female             0     Yes        Yes       0   \n",
       "1082  4367-NUYAO    Male             0     Yes        Yes       0   \n",
       "1340  1371-DWPAZ  Female             0     Yes        Yes       0   \n",
       "3331  7644-OMVMY    Male             0     Yes        Yes       0   \n",
       "3826  3213-VVOLG    Male             0     Yes        Yes       0   \n",
       "4380  2520-SGTTA  Female             0     Yes        Yes       0   \n",
       "5218  2923-ARZLG    Male             0     Yes        Yes       0   \n",
       "6670  4075-WKNIU  Female             0     Yes        Yes       0   \n",
       "6754  2775-SEFEE    Male             0      No        Yes       0   \n",
       "\n",
       "     PhoneService     MultipleLines InternetService       OnlineSecurity  ...  \\\n",
       "488            No  No phone service             DSL                  Yes  ...   \n",
       "753           Yes                No              No  No internet service  ...   \n",
       "936           Yes                No             DSL                  Yes  ...   \n",
       "1082          Yes               Yes              No  No internet service  ...   \n",
       "1340           No  No phone service             DSL                  Yes  ...   \n",
       "3331          Yes                No              No  No internet service  ...   \n",
       "3826          Yes               Yes              No  No internet service  ...   \n",
       "4380          Yes                No              No  No internet service  ...   \n",
       "5218          Yes                No              No  No internet service  ...   \n",
       "6670          Yes               Yes             DSL                   No  ...   \n",
       "6754          Yes               Yes             DSL                  Yes  ...   \n",
       "\n",
       "         DeviceProtection          TechSupport          StreamingTV  \\\n",
       "488                   Yes                  Yes                  Yes   \n",
       "753   No internet service  No internet service  No internet service   \n",
       "936                   Yes                   No                  Yes   \n",
       "1082  No internet service  No internet service  No internet service   \n",
       "1340                  Yes                  Yes                  Yes   \n",
       "3331  No internet service  No internet service  No internet service   \n",
       "3826  No internet service  No internet service  No internet service   \n",
       "4380  No internet service  No internet service  No internet service   \n",
       "5218  No internet service  No internet service  No internet service   \n",
       "6670                  Yes                  Yes                  Yes   \n",
       "6754                   No                  Yes                   No   \n",
       "\n",
       "          StreamingMovies  Contract PaperlessBilling  \\\n",
       "488                    No  Two year              Yes   \n",
       "753   No internet service  Two year               No   \n",
       "936                   Yes  Two year               No   \n",
       "1082  No internet service  Two year               No   \n",
       "1340                   No  Two year               No   \n",
       "3331  No internet service  Two year               No   \n",
       "3826  No internet service  Two year               No   \n",
       "4380  No internet service  Two year               No   \n",
       "5218  No internet service  One year              Yes   \n",
       "6670                   No  Two year               No   \n",
       "6754                   No  Two year              Yes   \n",
       "\n",
       "                  PaymentMethod MonthlyCharges  TotalCharges  Churn  \n",
       "488   Bank transfer (automatic)          52.55           NaN     No  \n",
       "753                Mailed check          20.25           NaN     No  \n",
       "936                Mailed check          80.85           NaN     No  \n",
       "1082               Mailed check          25.75           NaN     No  \n",
       "1340    Credit card (automatic)          56.05           NaN     No  \n",
       "3331               Mailed check          19.85           NaN     No  \n",
       "3826               Mailed check          25.35           NaN     No  \n",
       "4380               Mailed check          20.00           NaN     No  \n",
       "5218               Mailed check          19.70           NaN     No  \n",
       "6670               Mailed check          73.35           NaN     No  \n",
       "6754  Bank transfer (automatic)          61.90           NaN     No  \n",
       "\n",
       "[11 rows x 21 columns]"
      ]
     },
     "execution_count": 111,
     "metadata": {},
     "output_type": "execute_result"
    }
   ],
   "source": [
    "df[df.isnull().any(axis=1)]"
   ]
  },
  {
   "cell_type": "markdown",
   "id": "qo3dsjSuHUwO",
   "metadata": {
    "id": "qo3dsjSuHUwO"
   },
   "source": [
    "####Filling Cells in TotalCharges with NaN values with 0"
   ]
  },
  {
   "cell_type": "code",
   "execution_count": 112,
   "id": "6743a925",
   "metadata": {
    "id": "6743a925"
   },
   "outputs": [],
   "source": [
    "df['TotalCharges'] = df['TotalCharges'].fillna(0)"
   ]
  },
  {
   "cell_type": "markdown",
   "id": "4115f37f",
   "metadata": {
    "id": "4115f37f"
   },
   "source": [
    "##### drop costumerid"
   ]
  },
  {
   "cell_type": "code",
   "execution_count": 113,
   "id": "8a0c18f9",
   "metadata": {
    "id": "8a0c18f9"
   },
   "outputs": [],
   "source": [
    "df.drop(columns = ['customerID'], axis=1, inplace=True)"
   ]
  },
  {
   "cell_type": "markdown",
   "id": "6b875793",
   "metadata": {
    "id": "6b875793"
   },
   "source": [
    "### Anomaly Checking"
   ]
  },
  {
   "cell_type": "code",
   "execution_count": 114,
   "id": "49bc6013",
   "metadata": {
    "colab": {
     "base_uri": "https://localhost:8080/",
     "height": 528
    },
    "id": "49bc6013",
    "outputId": "fb03d1ce-844d-4e7d-e24c-1366500cd19c",
    "scrolled": false
   },
   "outputs": [
    {
     "name": "stderr",
     "output_type": "stream",
     "text": [
      "E:\\Anaconda\\lib\\site-packages\\seaborn\\_decorators.py:36: FutureWarning: Pass the following variable as a keyword arg: x. From version 0.12, the only valid positional argument will be `data`, and passing other arguments without an explicit keyword will result in an error or misinterpretation.\n",
      "  warnings.warn(\n",
      "E:\\Anaconda\\lib\\site-packages\\seaborn\\_decorators.py:36: FutureWarning: Pass the following variable as a keyword arg: x. From version 0.12, the only valid positional argument will be `data`, and passing other arguments without an explicit keyword will result in an error or misinterpretation.\n",
      "  warnings.warn(\n",
      "E:\\Anaconda\\lib\\site-packages\\seaborn\\_decorators.py:36: FutureWarning: Pass the following variable as a keyword arg: x. From version 0.12, the only valid positional argument will be `data`, and passing other arguments without an explicit keyword will result in an error or misinterpretation.\n",
      "  warnings.warn(\n"
     ]
    },
    {
     "data": {
      "image/png": "[encoded data removed]",
      "text/plain": [
       "<Figure size 1296x432 with 3 Axes>"
      ]
     },
     "metadata": {
      "needs_background": "light"
     },
     "output_type": "display_data"
    }
   ],
   "source": [
    "plt.figure(figsize=(18,6))\n",
    "plt.subplot(1,3,1)\n",
    "sns.boxplot(df['tenure'], color = \"mediumpurple\")\n",
    "plt.title(\"tenure\")\n",
    "plt.subplot(1,3,2)\n",
    "sns.boxplot(df['TotalCharges'], color = \"mediumpurple\")\n",
    "plt.title(\"TotalCharges\")\n",
    "plt.subplot(1,3,3)\n",
    "sns.boxplot(df['MonthlyCharges'], color = \"mediumpurple\")\n",
    "plt.title(\"MonthlyCharges\")\n",
    "\n",
    "\n",
    "plt.show()"
   ]
  },
  {
   "cell_type": "markdown",
   "id": "51f60100",
   "metadata": {
    "id": "51f60100"
   },
   "source": [
    "#### No outlier detected"
   ]
  },
  {
   "cell_type": "markdown",
   "id": "8f985602",
   "metadata": {
    "id": "8f985602"
   },
   "source": [
    "# EDA"
   ]
  },
  {
   "cell_type": "markdown",
   "id": "RAK3z4InHF-Y",
   "metadata": {
    "id": "RAK3z4InHF-Y"
   },
   "source": [
    "###Statistical Information from the Data"
   ]
  },
  {
   "cell_type": "code",
   "execution_count": 115,
   "id": "qCnaBCICHBk8",
   "metadata": {
    "id": "qCnaBCICHBk8"
   },
   "outputs": [
    {
     "data": {
      "text/plain": [
       "<bound method NDFrame.describe of       gender SeniorCitizen Partner Dependents  tenure PhoneService  \\\n",
       "0     Female             0     Yes         No       1           No   \n",
       "1       Male             0      No         No      34          Yes   \n",
       "2       Male             0      No         No       2          Yes   \n",
       "3       Male             0      No         No      45           No   \n",
       "4     Female             0      No         No       2          Yes   \n",
       "...      ...           ...     ...        ...     ...          ...   \n",
       "7038    Male             0     Yes        Yes      24          Yes   \n",
       "7039  Female             0     Yes        Yes      72          Yes   \n",
       "7040  Female             0     Yes        Yes      11           No   \n",
       "7041    Male             1     Yes         No       4          Yes   \n",
       "7042    Male             0      No         No      66          Yes   \n",
       "\n",
       "         MultipleLines InternetService OnlineSecurity OnlineBackup  \\\n",
       "0     No phone service             DSL             No          Yes   \n",
       "1                   No             DSL            Yes           No   \n",
       "2                   No             DSL            Yes          Yes   \n",
       "3     No phone service             DSL            Yes           No   \n",
       "4                   No     Fiber optic             No           No   \n",
       "...                ...             ...            ...          ...   \n",
       "7038               Yes             DSL            Yes           No   \n",
       "7039               Yes     Fiber optic             No          Yes   \n",
       "7040  No phone service             DSL            Yes           No   \n",
       "7041               Yes     Fiber optic             No           No   \n",
       "7042                No     Fiber optic            Yes           No   \n",
       "\n",
       "     DeviceProtection TechSupport StreamingTV StreamingMovies        Contract  \\\n",
       "0                  No          No          No              No  Month-to-month   \n",
       "1                 Yes          No          No              No        One year   \n",
       "2                  No          No          No              No  Month-to-month   \n",
       "3                 Yes         Yes          No              No        One year   \n",
       "4                  No          No          No              No  Month-to-month   \n",
       "...               ...         ...         ...             ...             ...   \n",
       "7038              Yes         Yes         Yes             Yes        One year   \n",
       "7039              Yes          No         Yes             Yes        One year   \n",
       "7040               No          No          No              No  Month-to-month   \n",
       "7041               No          No          No              No  Month-to-month   \n",
       "7042              Yes         Yes         Yes             Yes        Two year   \n",
       "\n",
       "     PaperlessBilling              PaymentMethod  MonthlyCharges  \\\n",
       "0                 Yes           Electronic check           29.85   \n",
       "1                  No               Mailed check           56.95   \n",
       "2                 Yes               Mailed check           53.85   \n",
       "3                  No  Bank transfer (automatic)           42.30   \n",
       "4                 Yes           Electronic check           70.70   \n",
       "...               ...                        ...             ...   \n",
       "7038              Yes               Mailed check           84.80   \n",
       "7039              Yes    Credit card (automatic)          103.20   \n",
       "7040              Yes           Electronic check           29.60   \n",
       "7041              Yes               Mailed check           74.40   \n",
       "7042              Yes  Bank transfer (automatic)          105.65   \n",
       "\n",
       "      TotalCharges Churn  \n",
       "0            29.85    No  \n",
       "1          1889.50    No  \n",
       "2           108.15   Yes  \n",
       "3          1840.75    No  \n",
       "4           151.65   Yes  \n",
       "...            ...   ...  \n",
       "7038       1990.50    No  \n",
       "7039       7362.90    No  \n",
       "7040        346.45    No  \n",
       "7041        306.60   Yes  \n",
       "7042       6844.50    No  \n",
       "\n",
       "[7043 rows x 20 columns]>"
      ]
     },
     "execution_count": 115,
     "metadata": {},
     "output_type": "execute_result"
    }
   ],
   "source": [
    "df.describe"
   ]
  },
  {
   "cell_type": "markdown",
   "id": "30bc5554",
   "metadata": {
    "id": "30bc5554"
   },
   "source": [
    "### Correlation Analysis to Detect Multicolinierity"
   ]
  },
  {
   "cell_type": "code",
   "execution_count": 116,
   "id": "883c3102",
   "metadata": {
    "colab": {
     "base_uri": "https://localhost:8080/",
     "height": 427
    },
    "id": "883c3102",
    "outputId": "c336e6b1-0106-41f7-c4fd-2a63ec1c68d8"
   },
   "outputs": [
    {
     "name": "stdout",
     "output_type": "stream",
     "text": [
      "                  tenure  MonthlyCharges  TotalCharges\n",
      "tenure          1.000000        0.247900      0.826178\n",
      "MonthlyCharges  0.247900        1.000000      0.651174\n",
      "TotalCharges    0.826178        0.651174      1.000000\n"
     ]
    },
    {
     "data": {
      "image/png": "[encoded data removed]",
      "text/plain": [
       "<Figure size 432x288 with 2 Axes>"
      ]
     },
     "metadata": {
      "needs_background": "light"
     },
     "output_type": "display_data"
    }
   ],
   "source": [
    "corr=df.corr()\n",
    "print(corr)\n",
    "corrplot=sns.heatmap(corr, cmap=\"Purples\", annot=True)\n",
    "plt.show()"
   ]
  },
  {
   "cell_type": "markdown",
   "id": "245f4305",
   "metadata": {
    "id": "245f4305"
   },
   "source": [
    "### Distribution"
   ]
  },
  {
   "cell_type": "code",
   "execution_count": 117,
   "id": "63721230",
   "metadata": {
    "colab": {
     "base_uri": "https://localhost:8080/",
     "height": 809
    },
    "id": "63721230",
    "outputId": "f92c24ec-fe7a-4163-d372-d9bcaac9e84d"
   },
   "outputs": [
    {
     "data": {
      "image/png": "[encoded data removed]",
      "text/plain": [
       "<Figure size 648x288 with 1 Axes>"
      ]
     },
     "metadata": {
      "needs_background": "light"
     },
     "output_type": "display_data"
    },
    {
     "data": {
      "image/png": "[encoded data removed]",
      "text/plain": [
       "<Figure size 648x288 with 1 Axes>"
      ]
     },
     "metadata": {
      "needs_background": "light"
     },
     "output_type": "display_data"
    },
    {
     "data": {
      "image/png": "[encoded data removed]",
      "text/plain": [
       "<Figure size 648x288 with 1 Axes>"
      ]
     },
     "metadata": {
      "needs_background": "light"
     },
     "output_type": "display_data"
    }
   ],
   "source": [
    "def kdeplot(feature):\n",
    "    plt.figure(figsize=(9, 4))\n",
    "    plt.title(\"KDE for {}\".format(feature))\n",
    "    ax0 = sns.kdeplot(df[df['Churn'] == 'No'][feature].dropna(), color='mediumpurple', label= 'Churn: No')\n",
    "    ax1 = sns.kdeplot(df[df['Churn'] == 'Yes'][feature].dropna(), color='orange', label= 'Churn: Yes')\n",
    "kdeplot('tenure')\n",
    "plt.legend()\n",
    "kdeplot('MonthlyCharges')\n",
    "plt.legend()\n",
    "kdeplot('TotalCharges')\n",
    "plt.legend()\n",
    "plt.show()"
   ]
  },
  {
   "cell_type": "code",
   "execution_count": 118,
   "id": "1c117ad7",
   "metadata": {
    "colab": {
     "base_uri": "https://localhost:8080/"
    },
    "id": "1c117ad7",
    "outputId": "a3cb3383-4f62-45e9-865d-c8bafd0fdf39"
   },
   "outputs": [
    {
     "name": "stderr",
     "output_type": "stream",
     "text": [
      "E:\\Anaconda\\lib\\site-packages\\seaborn\\categorical.py:3717: UserWarning: The `factorplot` function has been renamed to `catplot`. The original name will be removed in a future release. Please update your code. Note that the default `kind` in `factorplot` (`'point'`) has changed `'strip'` in `catplot`.\n",
      "  warnings.warn(msg)\n"
     ]
    },
    {
     "data": {
      "text/plain": [
       "Text(0.5, 1.0, 'Total Charges vs Churn')"
      ]
     },
     "execution_count": 118,
     "metadata": {},
     "output_type": "execute_result"
    },
    {
     "data": {
      "image/png": "[encoded data removed]",
      "text/plain": [
       "<Figure size 360x360 with 1 Axes>"
      ]
     },
     "metadata": {
      "needs_background": "light"
     },
     "output_type": "display_data"
    }
   ],
   "source": [
    "g = sns.factorplot(y=\"TotalCharges\",x=\"Churn\",data=df,kind=\"boxen\", palette = \"Purples\")\n",
    "plt.title(\"Total Charges vs Churn\")"
   ]
  },
  {
   "cell_type": "code",
   "execution_count": 119,
   "id": "p4902vhKSktA",
   "metadata": {
    "colab": {
     "base_uri": "https://localhost:8080/",
     "height": 296
    },
    "id": "p4902vhKSktA",
    "outputId": "a19e89ba-1f82-4840-908f-37faecca6f86"
   },
   "outputs": [
    {
     "data": {
      "image/png": "[encoded data removed]",
      "text/plain": [
       "<Figure size 432x288 with 1 Axes>"
      ]
     },
     "metadata": {
      "needs_background": "light"
     },
     "output_type": "display_data"
    }
   ],
   "source": [
    "sns.scatterplot(data=df, x=\"tenure\", y=\"TotalCharges\", hue=\"Churn\", palette=\"Purples\")\n",
    "plt.title(\"Tenure vs Total Charges\")\n",
    "plt.show()"
   ]
  },
  {
   "cell_type": "markdown",
   "id": "5521ced9",
   "metadata": {
    "id": "5521ced9"
   },
   "source": [
    "### Crosstab"
   ]
  },
  {
   "cell_type": "code",
   "execution_count": 120,
   "id": "2b6cf5b7",
   "metadata": {
    "colab": {
     "base_uri": "https://localhost:8080/"
    },
    "id": "2b6cf5b7",
    "outputId": "9816ebcb-eec4-432b-b51c-919a49adccc0",
    "scrolled": true
   },
   "outputs": [
    {
     "data": {
      "text/html": [
       "<div>\n",
       "<style scoped>\n",
       "    .dataframe tbody tr th:only-of-type {\n",
       "        vertical-align: middle;\n",
       "    }\n",
       "\n",
       "    .dataframe tbody tr th {\n",
       "        vertical-align: top;\n",
       "    }\n",
       "\n",
       "    .dataframe thead th {\n",
       "        text-align: right;\n",
       "    }\n",
       "</style>\n",
       "<table border=\"1\" class=\"dataframe\">\n",
       "  <thead>\n",
       "    <tr style=\"text-align: right;\">\n",
       "      <th>PhoneService</th>\n",
       "      <th>No</th>\n",
       "      <th>Yes</th>\n",
       "      <th>All</th>\n",
       "    </tr>\n",
       "    <tr>\n",
       "      <th>Churn</th>\n",
       "      <th></th>\n",
       "      <th></th>\n",
       "      <th></th>\n",
       "    </tr>\n",
       "  </thead>\n",
       "  <tbody>\n",
       "    <tr>\n",
       "      <th>No</th>\n",
       "      <td>512</td>\n",
       "      <td>4662</td>\n",
       "      <td>5174</td>\n",
       "    </tr>\n",
       "    <tr>\n",
       "      <th>Yes</th>\n",
       "      <td>170</td>\n",
       "      <td>1699</td>\n",
       "      <td>1869</td>\n",
       "    </tr>\n",
       "    <tr>\n",
       "      <th>All</th>\n",
       "      <td>682</td>\n",
       "      <td>6361</td>\n",
       "      <td>7043</td>\n",
       "    </tr>\n",
       "  </tbody>\n",
       "</table>\n",
       "</div>"
      ],
      "text/plain": [
       "PhoneService   No   Yes   All\n",
       "Churn                        \n",
       "No            512  4662  5174\n",
       "Yes           170  1699  1869\n",
       "All           682  6361  7043"
      ]
     },
     "execution_count": 120,
     "metadata": {},
     "output_type": "execute_result"
    }
   ],
   "source": [
    "pd.crosstab(df['Churn'], df['PhoneService'], margins=True)"
   ]
  },
  {
   "cell_type": "code",
   "execution_count": 121,
   "id": "ffaa2d0d",
   "metadata": {
    "colab": {
     "base_uri": "https://localhost:8080/"
    },
    "id": "ffaa2d0d",
    "outputId": "aade012b-e0c0-4a68-e1a2-27a3040b1aca"
   },
   "outputs": [
    {
     "data": {
      "text/html": [
       "<div>\n",
       "<style scoped>\n",
       "    .dataframe tbody tr th:only-of-type {\n",
       "        vertical-align: middle;\n",
       "    }\n",
       "\n",
       "    .dataframe tbody tr th {\n",
       "        vertical-align: top;\n",
       "    }\n",
       "\n",
       "    .dataframe thead th {\n",
       "        text-align: right;\n",
       "    }\n",
       "</style>\n",
       "<table border=\"1\" class=\"dataframe\">\n",
       "  <thead>\n",
       "    <tr style=\"text-align: right;\">\n",
       "      <th>gender</th>\n",
       "      <th>Female</th>\n",
       "      <th>Male</th>\n",
       "      <th>All</th>\n",
       "    </tr>\n",
       "    <tr>\n",
       "      <th>Churn</th>\n",
       "      <th></th>\n",
       "      <th></th>\n",
       "      <th></th>\n",
       "    </tr>\n",
       "  </thead>\n",
       "  <tbody>\n",
       "    <tr>\n",
       "      <th>No</th>\n",
       "      <td>2549</td>\n",
       "      <td>2625</td>\n",
       "      <td>5174</td>\n",
       "    </tr>\n",
       "    <tr>\n",
       "      <th>Yes</th>\n",
       "      <td>939</td>\n",
       "      <td>930</td>\n",
       "      <td>1869</td>\n",
       "    </tr>\n",
       "    <tr>\n",
       "      <th>All</th>\n",
       "      <td>3488</td>\n",
       "      <td>3555</td>\n",
       "      <td>7043</td>\n",
       "    </tr>\n",
       "  </tbody>\n",
       "</table>\n",
       "</div>"
      ],
      "text/plain": [
       "gender  Female  Male   All\n",
       "Churn                     \n",
       "No        2549  2625  5174\n",
       "Yes        939   930  1869\n",
       "All       3488  3555  7043"
      ]
     },
     "execution_count": 121,
     "metadata": {},
     "output_type": "execute_result"
    }
   ],
   "source": [
    "pd.crosstab(df['Churn'], df['gender'], margins=True)"
   ]
  },
  {
   "cell_type": "code",
   "execution_count": 122,
   "id": "044b4b40",
   "metadata": {
    "colab": {
     "base_uri": "https://localhost:8080/"
    },
    "id": "044b4b40",
    "outputId": "b8da5bcd-469f-413a-ca55-e114feb27146"
   },
   "outputs": [
    {
     "data": {
      "text/html": [
       "<div>\n",
       "<style scoped>\n",
       "    .dataframe tbody tr th:only-of-type {\n",
       "        vertical-align: middle;\n",
       "    }\n",
       "\n",
       "    .dataframe tbody tr th {\n",
       "        vertical-align: top;\n",
       "    }\n",
       "\n",
       "    .dataframe thead th {\n",
       "        text-align: right;\n",
       "    }\n",
       "</style>\n",
       "<table border=\"1\" class=\"dataframe\">\n",
       "  <thead>\n",
       "    <tr style=\"text-align: right;\">\n",
       "      <th>Partner</th>\n",
       "      <th>No</th>\n",
       "      <th>Yes</th>\n",
       "      <th>All</th>\n",
       "    </tr>\n",
       "    <tr>\n",
       "      <th>Churn</th>\n",
       "      <th></th>\n",
       "      <th></th>\n",
       "      <th></th>\n",
       "    </tr>\n",
       "  </thead>\n",
       "  <tbody>\n",
       "    <tr>\n",
       "      <th>No</th>\n",
       "      <td>2441</td>\n",
       "      <td>2733</td>\n",
       "      <td>5174</td>\n",
       "    </tr>\n",
       "    <tr>\n",
       "      <th>Yes</th>\n",
       "      <td>1200</td>\n",
       "      <td>669</td>\n",
       "      <td>1869</td>\n",
       "    </tr>\n",
       "    <tr>\n",
       "      <th>All</th>\n",
       "      <td>3641</td>\n",
       "      <td>3402</td>\n",
       "      <td>7043</td>\n",
       "    </tr>\n",
       "  </tbody>\n",
       "</table>\n",
       "</div>"
      ],
      "text/plain": [
       "Partner    No   Yes   All\n",
       "Churn                    \n",
       "No       2441  2733  5174\n",
       "Yes      1200   669  1869\n",
       "All      3641  3402  7043"
      ]
     },
     "execution_count": 122,
     "metadata": {},
     "output_type": "execute_result"
    }
   ],
   "source": [
    "pd.crosstab(df['Churn'], df['Partner'], margins=True)"
   ]
  },
  {
   "cell_type": "code",
   "execution_count": 123,
   "id": "02e1f340",
   "metadata": {
    "colab": {
     "base_uri": "https://localhost:8080/"
    },
    "id": "02e1f340",
    "outputId": "a1bb06e6-29d8-4ea9-90b1-3535dda0492c"
   },
   "outputs": [
    {
     "data": {
      "text/html": [
       "<div>\n",
       "<style scoped>\n",
       "    .dataframe tbody tr th:only-of-type {\n",
       "        vertical-align: middle;\n",
       "    }\n",
       "\n",
       "    .dataframe tbody tr th {\n",
       "        vertical-align: top;\n",
       "    }\n",
       "\n",
       "    .dataframe thead th {\n",
       "        text-align: right;\n",
       "    }\n",
       "</style>\n",
       "<table border=\"1\" class=\"dataframe\">\n",
       "  <thead>\n",
       "    <tr style=\"text-align: right;\">\n",
       "      <th>Dependents</th>\n",
       "      <th>No</th>\n",
       "      <th>Yes</th>\n",
       "      <th>All</th>\n",
       "    </tr>\n",
       "    <tr>\n",
       "      <th>Churn</th>\n",
       "      <th></th>\n",
       "      <th></th>\n",
       "      <th></th>\n",
       "    </tr>\n",
       "  </thead>\n",
       "  <tbody>\n",
       "    <tr>\n",
       "      <th>No</th>\n",
       "      <td>3390</td>\n",
       "      <td>1784</td>\n",
       "      <td>5174</td>\n",
       "    </tr>\n",
       "    <tr>\n",
       "      <th>Yes</th>\n",
       "      <td>1543</td>\n",
       "      <td>326</td>\n",
       "      <td>1869</td>\n",
       "    </tr>\n",
       "    <tr>\n",
       "      <th>All</th>\n",
       "      <td>4933</td>\n",
       "      <td>2110</td>\n",
       "      <td>7043</td>\n",
       "    </tr>\n",
       "  </tbody>\n",
       "</table>\n",
       "</div>"
      ],
      "text/plain": [
       "Dependents    No   Yes   All\n",
       "Churn                       \n",
       "No          3390  1784  5174\n",
       "Yes         1543   326  1869\n",
       "All         4933  2110  7043"
      ]
     },
     "execution_count": 123,
     "metadata": {},
     "output_type": "execute_result"
    }
   ],
   "source": [
    "pd.crosstab(df['Churn'], df['Dependents'], margins=True)"
   ]
  },
  {
   "cell_type": "code",
   "execution_count": 124,
   "id": "b966ec34",
   "metadata": {
    "colab": {
     "base_uri": "https://localhost:8080/"
    },
    "id": "b966ec34",
    "outputId": "d730262b-05d6-4196-dc5b-883583a83c9b"
   },
   "outputs": [
    {
     "data": {
      "text/html": [
       "<div>\n",
       "<style scoped>\n",
       "    .dataframe tbody tr th:only-of-type {\n",
       "        vertical-align: middle;\n",
       "    }\n",
       "\n",
       "    .dataframe tbody tr th {\n",
       "        vertical-align: top;\n",
       "    }\n",
       "\n",
       "    .dataframe thead th {\n",
       "        text-align: right;\n",
       "    }\n",
       "</style>\n",
       "<table border=\"1\" class=\"dataframe\">\n",
       "  <thead>\n",
       "    <tr style=\"text-align: right;\">\n",
       "      <th>MultipleLines</th>\n",
       "      <th>No</th>\n",
       "      <th>No phone service</th>\n",
       "      <th>Yes</th>\n",
       "      <th>All</th>\n",
       "    </tr>\n",
       "    <tr>\n",
       "      <th>Churn</th>\n",
       "      <th></th>\n",
       "      <th></th>\n",
       "      <th></th>\n",
       "      <th></th>\n",
       "    </tr>\n",
       "  </thead>\n",
       "  <tbody>\n",
       "    <tr>\n",
       "      <th>No</th>\n",
       "      <td>2541</td>\n",
       "      <td>512</td>\n",
       "      <td>2121</td>\n",
       "      <td>5174</td>\n",
       "    </tr>\n",
       "    <tr>\n",
       "      <th>Yes</th>\n",
       "      <td>849</td>\n",
       "      <td>170</td>\n",
       "      <td>850</td>\n",
       "      <td>1869</td>\n",
       "    </tr>\n",
       "    <tr>\n",
       "      <th>All</th>\n",
       "      <td>3390</td>\n",
       "      <td>682</td>\n",
       "      <td>2971</td>\n",
       "      <td>7043</td>\n",
       "    </tr>\n",
       "  </tbody>\n",
       "</table>\n",
       "</div>"
      ],
      "text/plain": [
       "MultipleLines    No  No phone service   Yes   All\n",
       "Churn                                            \n",
       "No             2541               512  2121  5174\n",
       "Yes             849               170   850  1869\n",
       "All            3390               682  2971  7043"
      ]
     },
     "execution_count": 124,
     "metadata": {},
     "output_type": "execute_result"
    }
   ],
   "source": [
    "pd.crosstab(df['Churn'], df['MultipleLines'], margins=True)"
   ]
  },
  {
   "cell_type": "code",
   "execution_count": 125,
   "id": "2b61b10b",
   "metadata": {
    "colab": {
     "base_uri": "https://localhost:8080/"
    },
    "id": "2b61b10b",
    "outputId": "16b468fd-8802-497a-88cc-e8fbc8fa43d6"
   },
   "outputs": [
    {
     "data": {
      "text/html": [
       "<div>\n",
       "<style scoped>\n",
       "    .dataframe tbody tr th:only-of-type {\n",
       "        vertical-align: middle;\n",
       "    }\n",
       "\n",
       "    .dataframe tbody tr th {\n",
       "        vertical-align: top;\n",
       "    }\n",
       "\n",
       "    .dataframe thead th {\n",
       "        text-align: right;\n",
       "    }\n",
       "</style>\n",
       "<table border=\"1\" class=\"dataframe\">\n",
       "  <thead>\n",
       "    <tr style=\"text-align: right;\">\n",
       "      <th>InternetService</th>\n",
       "      <th>DSL</th>\n",
       "      <th>Fiber optic</th>\n",
       "      <th>No</th>\n",
       "      <th>All</th>\n",
       "    </tr>\n",
       "    <tr>\n",
       "      <th>Churn</th>\n",
       "      <th></th>\n",
       "      <th></th>\n",
       "      <th></th>\n",
       "      <th></th>\n",
       "    </tr>\n",
       "  </thead>\n",
       "  <tbody>\n",
       "    <tr>\n",
       "      <th>No</th>\n",
       "      <td>1962</td>\n",
       "      <td>1799</td>\n",
       "      <td>1413</td>\n",
       "      <td>5174</td>\n",
       "    </tr>\n",
       "    <tr>\n",
       "      <th>Yes</th>\n",
       "      <td>459</td>\n",
       "      <td>1297</td>\n",
       "      <td>113</td>\n",
       "      <td>1869</td>\n",
       "    </tr>\n",
       "    <tr>\n",
       "      <th>All</th>\n",
       "      <td>2421</td>\n",
       "      <td>3096</td>\n",
       "      <td>1526</td>\n",
       "      <td>7043</td>\n",
       "    </tr>\n",
       "  </tbody>\n",
       "</table>\n",
       "</div>"
      ],
      "text/plain": [
       "InternetService   DSL  Fiber optic    No   All\n",
       "Churn                                         \n",
       "No               1962         1799  1413  5174\n",
       "Yes               459         1297   113  1869\n",
       "All              2421         3096  1526  7043"
      ]
     },
     "execution_count": 125,
     "metadata": {},
     "output_type": "execute_result"
    }
   ],
   "source": [
    "pd.crosstab(df['Churn'], df['InternetService'], margins=True)"
   ]
  },
  {
   "cell_type": "code",
   "execution_count": 126,
   "id": "19cb9aa0",
   "metadata": {
    "colab": {
     "base_uri": "https://localhost:8080/"
    },
    "id": "19cb9aa0",
    "outputId": "f87c46f4-1191-4f33-e59c-a4a7ac2bc581"
   },
   "outputs": [
    {
     "data": {
      "text/html": [
       "<div>\n",
       "<style scoped>\n",
       "    .dataframe tbody tr th:only-of-type {\n",
       "        vertical-align: middle;\n",
       "    }\n",
       "\n",
       "    .dataframe tbody tr th {\n",
       "        vertical-align: top;\n",
       "    }\n",
       "\n",
       "    .dataframe thead th {\n",
       "        text-align: right;\n",
       "    }\n",
       "</style>\n",
       "<table border=\"1\" class=\"dataframe\">\n",
       "  <thead>\n",
       "    <tr style=\"text-align: right;\">\n",
       "      <th>OnlineBackup</th>\n",
       "      <th>No</th>\n",
       "      <th>No internet service</th>\n",
       "      <th>Yes</th>\n",
       "      <th>All</th>\n",
       "    </tr>\n",
       "    <tr>\n",
       "      <th>Churn</th>\n",
       "      <th></th>\n",
       "      <th></th>\n",
       "      <th></th>\n",
       "      <th></th>\n",
       "    </tr>\n",
       "  </thead>\n",
       "  <tbody>\n",
       "    <tr>\n",
       "      <th>No</th>\n",
       "      <td>1855</td>\n",
       "      <td>1413</td>\n",
       "      <td>1906</td>\n",
       "      <td>5174</td>\n",
       "    </tr>\n",
       "    <tr>\n",
       "      <th>Yes</th>\n",
       "      <td>1233</td>\n",
       "      <td>113</td>\n",
       "      <td>523</td>\n",
       "      <td>1869</td>\n",
       "    </tr>\n",
       "    <tr>\n",
       "      <th>All</th>\n",
       "      <td>3088</td>\n",
       "      <td>1526</td>\n",
       "      <td>2429</td>\n",
       "      <td>7043</td>\n",
       "    </tr>\n",
       "  </tbody>\n",
       "</table>\n",
       "</div>"
      ],
      "text/plain": [
       "OnlineBackup    No  No internet service   Yes   All\n",
       "Churn                                              \n",
       "No            1855                 1413  1906  5174\n",
       "Yes           1233                  113   523  1869\n",
       "All           3088                 1526  2429  7043"
      ]
     },
     "execution_count": 126,
     "metadata": {},
     "output_type": "execute_result"
    }
   ],
   "source": [
    "pd.crosstab(df['Churn'], df['OnlineBackup'], margins=True)"
   ]
  },
  {
   "cell_type": "code",
   "execution_count": 127,
   "id": "b10f88df",
   "metadata": {
    "colab": {
     "base_uri": "https://localhost:8080/"
    },
    "id": "b10f88df",
    "outputId": "a1e1e249-93e8-440c-d8df-19a81b9da7d3"
   },
   "outputs": [
    {
     "data": {
      "text/html": [
       "<div>\n",
       "<style scoped>\n",
       "    .dataframe tbody tr th:only-of-type {\n",
       "        vertical-align: middle;\n",
       "    }\n",
       "\n",
       "    .dataframe tbody tr th {\n",
       "        vertical-align: top;\n",
       "    }\n",
       "\n",
       "    .dataframe thead th {\n",
       "        text-align: right;\n",
       "    }\n",
       "</style>\n",
       "<table border=\"1\" class=\"dataframe\">\n",
       "  <thead>\n",
       "    <tr style=\"text-align: right;\">\n",
       "      <th>OnlineSecurity</th>\n",
       "      <th>No</th>\n",
       "      <th>No internet service</th>\n",
       "      <th>Yes</th>\n",
       "      <th>All</th>\n",
       "    </tr>\n",
       "    <tr>\n",
       "      <th>Churn</th>\n",
       "      <th></th>\n",
       "      <th></th>\n",
       "      <th></th>\n",
       "      <th></th>\n",
       "    </tr>\n",
       "  </thead>\n",
       "  <tbody>\n",
       "    <tr>\n",
       "      <th>No</th>\n",
       "      <td>2037</td>\n",
       "      <td>1413</td>\n",
       "      <td>1724</td>\n",
       "      <td>5174</td>\n",
       "    </tr>\n",
       "    <tr>\n",
       "      <th>Yes</th>\n",
       "      <td>1461</td>\n",
       "      <td>113</td>\n",
       "      <td>295</td>\n",
       "      <td>1869</td>\n",
       "    </tr>\n",
       "    <tr>\n",
       "      <th>All</th>\n",
       "      <td>3498</td>\n",
       "      <td>1526</td>\n",
       "      <td>2019</td>\n",
       "      <td>7043</td>\n",
       "    </tr>\n",
       "  </tbody>\n",
       "</table>\n",
       "</div>"
      ],
      "text/plain": [
       "OnlineSecurity    No  No internet service   Yes   All\n",
       "Churn                                                \n",
       "No              2037                 1413  1724  5174\n",
       "Yes             1461                  113   295  1869\n",
       "All             3498                 1526  2019  7043"
      ]
     },
     "execution_count": 127,
     "metadata": {},
     "output_type": "execute_result"
    }
   ],
   "source": [
    "pd.crosstab(df['Churn'], df['OnlineSecurity'], margins=True)"
   ]
  },
  {
   "cell_type": "code",
   "execution_count": 128,
   "id": "20ba75ba",
   "metadata": {
    "colab": {
     "base_uri": "https://localhost:8080/"
    },
    "id": "20ba75ba",
    "outputId": "55579919-dcf1-4707-e56d-d6b984a3cb3e"
   },
   "outputs": [
    {
     "data": {
      "text/html": [
       "<div>\n",
       "<style scoped>\n",
       "    .dataframe tbody tr th:only-of-type {\n",
       "        vertical-align: middle;\n",
       "    }\n",
       "\n",
       "    .dataframe tbody tr th {\n",
       "        vertical-align: top;\n",
       "    }\n",
       "\n",
       "    .dataframe thead th {\n",
       "        text-align: right;\n",
       "    }\n",
       "</style>\n",
       "<table border=\"1\" class=\"dataframe\">\n",
       "  <thead>\n",
       "    <tr style=\"text-align: right;\">\n",
       "      <th>DeviceProtection</th>\n",
       "      <th>No</th>\n",
       "      <th>No internet service</th>\n",
       "      <th>Yes</th>\n",
       "      <th>All</th>\n",
       "    </tr>\n",
       "    <tr>\n",
       "      <th>Churn</th>\n",
       "      <th></th>\n",
       "      <th></th>\n",
       "      <th></th>\n",
       "      <th></th>\n",
       "    </tr>\n",
       "  </thead>\n",
       "  <tbody>\n",
       "    <tr>\n",
       "      <th>No</th>\n",
       "      <td>1884</td>\n",
       "      <td>1413</td>\n",
       "      <td>1877</td>\n",
       "      <td>5174</td>\n",
       "    </tr>\n",
       "    <tr>\n",
       "      <th>Yes</th>\n",
       "      <td>1211</td>\n",
       "      <td>113</td>\n",
       "      <td>545</td>\n",
       "      <td>1869</td>\n",
       "    </tr>\n",
       "    <tr>\n",
       "      <th>All</th>\n",
       "      <td>3095</td>\n",
       "      <td>1526</td>\n",
       "      <td>2422</td>\n",
       "      <td>7043</td>\n",
       "    </tr>\n",
       "  </tbody>\n",
       "</table>\n",
       "</div>"
      ],
      "text/plain": [
       "DeviceProtection    No  No internet service   Yes   All\n",
       "Churn                                                  \n",
       "No                1884                 1413  1877  5174\n",
       "Yes               1211                  113   545  1869\n",
       "All               3095                 1526  2422  7043"
      ]
     },
     "execution_count": 128,
     "metadata": {},
     "output_type": "execute_result"
    }
   ],
   "source": [
    "pd.crosstab(df['Churn'], df['DeviceProtection'], margins=True)"
   ]
  },
  {
   "cell_type": "code",
   "execution_count": 129,
   "id": "f22bd3d3",
   "metadata": {
    "colab": {
     "base_uri": "https://localhost:8080/"
    },
    "id": "f22bd3d3",
    "outputId": "94258391-229d-4961-d4d8-17efc6a7c6a3"
   },
   "outputs": [
    {
     "data": {
      "text/html": [
       "<div>\n",
       "<style scoped>\n",
       "    .dataframe tbody tr th:only-of-type {\n",
       "        vertical-align: middle;\n",
       "    }\n",
       "\n",
       "    .dataframe tbody tr th {\n",
       "        vertical-align: top;\n",
       "    }\n",
       "\n",
       "    .dataframe thead th {\n",
       "        text-align: right;\n",
       "    }\n",
       "</style>\n",
       "<table border=\"1\" class=\"dataframe\">\n",
       "  <thead>\n",
       "    <tr style=\"text-align: right;\">\n",
       "      <th>TechSupport</th>\n",
       "      <th>No</th>\n",
       "      <th>No internet service</th>\n",
       "      <th>Yes</th>\n",
       "      <th>All</th>\n",
       "    </tr>\n",
       "    <tr>\n",
       "      <th>Churn</th>\n",
       "      <th></th>\n",
       "      <th></th>\n",
       "      <th></th>\n",
       "      <th></th>\n",
       "    </tr>\n",
       "  </thead>\n",
       "  <tbody>\n",
       "    <tr>\n",
       "      <th>No</th>\n",
       "      <td>2027</td>\n",
       "      <td>1413</td>\n",
       "      <td>1734</td>\n",
       "      <td>5174</td>\n",
       "    </tr>\n",
       "    <tr>\n",
       "      <th>Yes</th>\n",
       "      <td>1446</td>\n",
       "      <td>113</td>\n",
       "      <td>310</td>\n",
       "      <td>1869</td>\n",
       "    </tr>\n",
       "    <tr>\n",
       "      <th>All</th>\n",
       "      <td>3473</td>\n",
       "      <td>1526</td>\n",
       "      <td>2044</td>\n",
       "      <td>7043</td>\n",
       "    </tr>\n",
       "  </tbody>\n",
       "</table>\n",
       "</div>"
      ],
      "text/plain": [
       "TechSupport    No  No internet service   Yes   All\n",
       "Churn                                             \n",
       "No           2027                 1413  1734  5174\n",
       "Yes          1446                  113   310  1869\n",
       "All          3473                 1526  2044  7043"
      ]
     },
     "execution_count": 129,
     "metadata": {},
     "output_type": "execute_result"
    }
   ],
   "source": [
    "pd.crosstab(df['Churn'], df['TechSupport'], margins=True)"
   ]
  },
  {
   "cell_type": "code",
   "execution_count": 130,
   "id": "41cfaa58",
   "metadata": {
    "colab": {
     "base_uri": "https://localhost:8080/"
    },
    "id": "41cfaa58",
    "outputId": "2e330f6a-8da9-44bc-e6d3-f2893bbd4020"
   },
   "outputs": [
    {
     "data": {
      "text/html": [
       "<div>\n",
       "<style scoped>\n",
       "    .dataframe tbody tr th:only-of-type {\n",
       "        vertical-align: middle;\n",
       "    }\n",
       "\n",
       "    .dataframe tbody tr th {\n",
       "        vertical-align: top;\n",
       "    }\n",
       "\n",
       "    .dataframe thead th {\n",
       "        text-align: right;\n",
       "    }\n",
       "</style>\n",
       "<table border=\"1\" class=\"dataframe\">\n",
       "  <thead>\n",
       "    <tr style=\"text-align: right;\">\n",
       "      <th>StreamingTV</th>\n",
       "      <th>No</th>\n",
       "      <th>No internet service</th>\n",
       "      <th>Yes</th>\n",
       "      <th>All</th>\n",
       "    </tr>\n",
       "    <tr>\n",
       "      <th>Churn</th>\n",
       "      <th></th>\n",
       "      <th></th>\n",
       "      <th></th>\n",
       "      <th></th>\n",
       "    </tr>\n",
       "  </thead>\n",
       "  <tbody>\n",
       "    <tr>\n",
       "      <th>No</th>\n",
       "      <td>1868</td>\n",
       "      <td>1413</td>\n",
       "      <td>1893</td>\n",
       "      <td>5174</td>\n",
       "    </tr>\n",
       "    <tr>\n",
       "      <th>Yes</th>\n",
       "      <td>942</td>\n",
       "      <td>113</td>\n",
       "      <td>814</td>\n",
       "      <td>1869</td>\n",
       "    </tr>\n",
       "    <tr>\n",
       "      <th>All</th>\n",
       "      <td>2810</td>\n",
       "      <td>1526</td>\n",
       "      <td>2707</td>\n",
       "      <td>7043</td>\n",
       "    </tr>\n",
       "  </tbody>\n",
       "</table>\n",
       "</div>"
      ],
      "text/plain": [
       "StreamingTV    No  No internet service   Yes   All\n",
       "Churn                                             \n",
       "No           1868                 1413  1893  5174\n",
       "Yes           942                  113   814  1869\n",
       "All          2810                 1526  2707  7043"
      ]
     },
     "execution_count": 130,
     "metadata": {},
     "output_type": "execute_result"
    }
   ],
   "source": [
    "pd.crosstab(df['Churn'], df['StreamingTV'], margins=True)"
   ]
  },
  {
   "cell_type": "code",
   "execution_count": 131,
   "id": "558ad747",
   "metadata": {
    "colab": {
     "base_uri": "https://localhost:8080/"
    },
    "id": "558ad747",
    "outputId": "aa6f8aed-0067-4031-dff1-f064750dbbc7"
   },
   "outputs": [
    {
     "data": {
      "text/html": [
       "<div>\n",
       "<style scoped>\n",
       "    .dataframe tbody tr th:only-of-type {\n",
       "        vertical-align: middle;\n",
       "    }\n",
       "\n",
       "    .dataframe tbody tr th {\n",
       "        vertical-align: top;\n",
       "    }\n",
       "\n",
       "    .dataframe thead th {\n",
       "        text-align: right;\n",
       "    }\n",
       "</style>\n",
       "<table border=\"1\" class=\"dataframe\">\n",
       "  <thead>\n",
       "    <tr style=\"text-align: right;\">\n",
       "      <th>Contract</th>\n",
       "      <th>Month-to-month</th>\n",
       "      <th>One year</th>\n",
       "      <th>Two year</th>\n",
       "      <th>All</th>\n",
       "    </tr>\n",
       "    <tr>\n",
       "      <th>Churn</th>\n",
       "      <th></th>\n",
       "      <th></th>\n",
       "      <th></th>\n",
       "      <th></th>\n",
       "    </tr>\n",
       "  </thead>\n",
       "  <tbody>\n",
       "    <tr>\n",
       "      <th>No</th>\n",
       "      <td>2220</td>\n",
       "      <td>1307</td>\n",
       "      <td>1647</td>\n",
       "      <td>5174</td>\n",
       "    </tr>\n",
       "    <tr>\n",
       "      <th>Yes</th>\n",
       "      <td>1655</td>\n",
       "      <td>166</td>\n",
       "      <td>48</td>\n",
       "      <td>1869</td>\n",
       "    </tr>\n",
       "    <tr>\n",
       "      <th>All</th>\n",
       "      <td>3875</td>\n",
       "      <td>1473</td>\n",
       "      <td>1695</td>\n",
       "      <td>7043</td>\n",
       "    </tr>\n",
       "  </tbody>\n",
       "</table>\n",
       "</div>"
      ],
      "text/plain": [
       "Contract  Month-to-month  One year  Two year   All\n",
       "Churn                                             \n",
       "No                  2220      1307      1647  5174\n",
       "Yes                 1655       166        48  1869\n",
       "All                 3875      1473      1695  7043"
      ]
     },
     "execution_count": 131,
     "metadata": {},
     "output_type": "execute_result"
    }
   ],
   "source": [
    "pd.crosstab(df['Churn'], df['Contract'], margins=True)"
   ]
  },
  {
   "cell_type": "code",
   "execution_count": 132,
   "id": "35e6aca3",
   "metadata": {
    "colab": {
     "base_uri": "https://localhost:8080/"
    },
    "id": "35e6aca3",
    "outputId": "ad9bcd6f-3f43-444f-dfa3-bdaf30935b1d"
   },
   "outputs": [
    {
     "data": {
      "text/html": [
       "<div>\n",
       "<style scoped>\n",
       "    .dataframe tbody tr th:only-of-type {\n",
       "        vertical-align: middle;\n",
       "    }\n",
       "\n",
       "    .dataframe tbody tr th {\n",
       "        vertical-align: top;\n",
       "    }\n",
       "\n",
       "    .dataframe thead th {\n",
       "        text-align: right;\n",
       "    }\n",
       "</style>\n",
       "<table border=\"1\" class=\"dataframe\">\n",
       "  <thead>\n",
       "    <tr style=\"text-align: right;\">\n",
       "      <th>PaperlessBilling</th>\n",
       "      <th>No</th>\n",
       "      <th>Yes</th>\n",
       "      <th>All</th>\n",
       "    </tr>\n",
       "    <tr>\n",
       "      <th>Churn</th>\n",
       "      <th></th>\n",
       "      <th></th>\n",
       "      <th></th>\n",
       "    </tr>\n",
       "  </thead>\n",
       "  <tbody>\n",
       "    <tr>\n",
       "      <th>No</th>\n",
       "      <td>2403</td>\n",
       "      <td>2771</td>\n",
       "      <td>5174</td>\n",
       "    </tr>\n",
       "    <tr>\n",
       "      <th>Yes</th>\n",
       "      <td>469</td>\n",
       "      <td>1400</td>\n",
       "      <td>1869</td>\n",
       "    </tr>\n",
       "    <tr>\n",
       "      <th>All</th>\n",
       "      <td>2872</td>\n",
       "      <td>4171</td>\n",
       "      <td>7043</td>\n",
       "    </tr>\n",
       "  </tbody>\n",
       "</table>\n",
       "</div>"
      ],
      "text/plain": [
       "PaperlessBilling    No   Yes   All\n",
       "Churn                             \n",
       "No                2403  2771  5174\n",
       "Yes                469  1400  1869\n",
       "All               2872  4171  7043"
      ]
     },
     "execution_count": 132,
     "metadata": {},
     "output_type": "execute_result"
    }
   ],
   "source": [
    "pd.crosstab(df['Churn'], df['PaperlessBilling'], margins=True)"
   ]
  },
  {
   "cell_type": "code",
   "execution_count": 133,
   "id": "53b00d47",
   "metadata": {
    "colab": {
     "base_uri": "https://localhost:8080/"
    },
    "id": "53b00d47",
    "outputId": "31244533-8964-4d7c-872a-a2e5627f502c"
   },
   "outputs": [
    {
     "data": {
      "text/html": [
       "<div>\n",
       "<style scoped>\n",
       "    .dataframe tbody tr th:only-of-type {\n",
       "        vertical-align: middle;\n",
       "    }\n",
       "\n",
       "    .dataframe tbody tr th {\n",
       "        vertical-align: top;\n",
       "    }\n",
       "\n",
       "    .dataframe thead th {\n",
       "        text-align: right;\n",
       "    }\n",
       "</style>\n",
       "<table border=\"1\" class=\"dataframe\">\n",
       "  <thead>\n",
       "    <tr style=\"text-align: right;\">\n",
       "      <th>PaymentMethod</th>\n",
       "      <th>Bank transfer (automatic)</th>\n",
       "      <th>Credit card (automatic)</th>\n",
       "      <th>Electronic check</th>\n",
       "      <th>Mailed check</th>\n",
       "      <th>All</th>\n",
       "    </tr>\n",
       "    <tr>\n",
       "      <th>Churn</th>\n",
       "      <th></th>\n",
       "      <th></th>\n",
       "      <th></th>\n",
       "      <th></th>\n",
       "      <th></th>\n",
       "    </tr>\n",
       "  </thead>\n",
       "  <tbody>\n",
       "    <tr>\n",
       "      <th>No</th>\n",
       "      <td>1286</td>\n",
       "      <td>1290</td>\n",
       "      <td>1294</td>\n",
       "      <td>1304</td>\n",
       "      <td>5174</td>\n",
       "    </tr>\n",
       "    <tr>\n",
       "      <th>Yes</th>\n",
       "      <td>258</td>\n",
       "      <td>232</td>\n",
       "      <td>1071</td>\n",
       "      <td>308</td>\n",
       "      <td>1869</td>\n",
       "    </tr>\n",
       "    <tr>\n",
       "      <th>All</th>\n",
       "      <td>1544</td>\n",
       "      <td>1522</td>\n",
       "      <td>2365</td>\n",
       "      <td>1612</td>\n",
       "      <td>7043</td>\n",
       "    </tr>\n",
       "  </tbody>\n",
       "</table>\n",
       "</div>"
      ],
      "text/plain": [
       "PaymentMethod  Bank transfer (automatic)  Credit card (automatic)  \\\n",
       "Churn                                                               \n",
       "No                                  1286                     1290   \n",
       "Yes                                  258                      232   \n",
       "All                                 1544                     1522   \n",
       "\n",
       "PaymentMethod  Electronic check  Mailed check   All  \n",
       "Churn                                                \n",
       "No                         1294          1304  5174  \n",
       "Yes                        1071           308  1869  \n",
       "All                        2365          1612  7043  "
      ]
     },
     "execution_count": 133,
     "metadata": {},
     "output_type": "execute_result"
    }
   ],
   "source": [
    "pd.crosstab(df['Churn'], df['PaymentMethod'], margins=True)"
   ]
  },
  {
   "cell_type": "code",
   "execution_count": 134,
   "id": "45e62a80",
   "metadata": {
    "colab": {
     "base_uri": "https://localhost:8080/"
    },
    "id": "45e62a80",
    "outputId": "bf2593c8-a479-4c8a-e453-7953480b2112"
   },
   "outputs": [
    {
     "data": {
      "image/png": "[encoded data removed]",
      "text/plain": [
       "<Figure size 1296x432 with 3 Axes>"
      ]
     },
     "metadata": {
      "needs_background": "light"
     },
     "output_type": "display_data"
    }
   ],
   "source": [
    "plt.figure(figsize=(18,6))\n",
    "plt.subplot(1,3,1)\n",
    "sns.boxplot(data=df, x='Churn', y='tenure', color = \"mediumpurple\")\n",
    "plt.title(\"tenure\")\n",
    "plt.subplot(1,3,2)\n",
    "sns.boxplot(data=df, x='Churn', y='TotalCharges', color = \"mediumpurple\")\n",
    "plt.title(\"TotalCharges\")\n",
    "plt.subplot(1,3,3)\n",
    "sns.boxplot(data=df, x='Churn', y='MonthlyCharges', color = \"mediumpurple\")\n",
    "plt.title(\"MonthlyCharges\")\n",
    "\n",
    "\n",
    "plt.show()"
   ]
  },
  {
   "cell_type": "markdown",
   "id": "89580d2e",
   "metadata": {
    "id": "89580d2e"
   },
   "source": [
    "\n",
    "\n",
    "```\n",
    "# Ini diformat sebagai kode\n",
    "```\n",
    "\n",
    "### BarChart"
   ]
  },
  {
   "cell_type": "code",
   "execution_count": 135,
   "id": "2070b1cb",
   "metadata": {
    "colab": {
     "base_uri": "https://localhost:8080/",
     "height": 311
    },
    "id": "2070b1cb",
    "outputId": "c7e77172-d362-48e3-f326-96a1cf0d9717",
    "scrolled": true
   },
   "outputs": [
    {
     "data": {
      "image/png": "[encoded data removed]",
      "text/plain": [
       "<Figure size 432x288 with 1 Axes>"
      ]
     },
     "metadata": {
      "needs_background": "light"
     },
     "output_type": "display_data"
    }
   ],
   "source": [
    "fig = plt.figure()  \n",
    "ax = sns.countplot(data = df, x='Churn', hue = 'gender', color = 'mediumpurple')\n",
    "plt.title(\"gender x Churn\")\n",
    "plt.show() "
   ]
  },
  {
   "cell_type": "code",
   "execution_count": 136,
   "id": "oo5Ly-DI80gA",
   "metadata": {
    "id": "oo5Ly-DI80gA"
   },
   "outputs": [],
   "source": [
    "df.drop(['gender'], axis=1, inplace=True)"
   ]
  },
  {
   "cell_type": "code",
   "execution_count": 137,
   "id": "6a70322b",
   "metadata": {
    "colab": {
     "base_uri": "https://localhost:8080/"
    },
    "id": "6a70322b",
    "outputId": "5249377a-b736-4331-e669-87e563cc00e7"
   },
   "outputs": [
    {
     "data": {
      "image/png": "[encoded data removed]",
      "text/plain": [
       "<Figure size 432x288 with 1 Axes>"
      ]
     },
     "metadata": {
      "needs_background": "light"
     },
     "output_type": "display_data"
    }
   ],
   "source": [
    "fig = plt.figure()  \n",
    "ax = sns.countplot(data = df, x='Churn', hue = 'SeniorCitizen', color = 'mediumpurple')\n",
    "plt.title('Senior Citizen x Churn')\n",
    "plt.show() "
   ]
  },
  {
   "cell_type": "code",
   "execution_count": 138,
   "id": "8cce62ff",
   "metadata": {
    "colab": {
     "base_uri": "https://localhost:8080/"
    },
    "id": "8cce62ff",
    "outputId": "76a05ce3-d9b4-40a8-9b2c-bcc9d70dae2c"
   },
   "outputs": [
    {
     "data": {
      "image/png": "[encoded data removed]",
      "text/plain": [
       "<Figure size 432x288 with 1 Axes>"
      ]
     },
     "metadata": {
      "needs_background": "light"
     },
     "output_type": "display_data"
    }
   ],
   "source": [
    "fig = plt.figure()  \n",
    "ax = sns.countplot(data = df, x='Churn', hue = 'Partner',color = 'mediumpurple')\n",
    "plt.title('Partner x Churn')\n",
    "plt.show() "
   ]
  },
  {
   "cell_type": "code",
   "execution_count": 139,
   "id": "2c4cc878",
   "metadata": {
    "colab": {
     "base_uri": "https://localhost:8080/"
    },
    "id": "2c4cc878",
    "outputId": "75ee345e-cbf2-4230-8271-c9bff6a3aa32"
   },
   "outputs": [
    {
     "data": {
      "image/png": "[encoded data removed]",
      "text/plain": [
       "<Figure size 432x288 with 1 Axes>"
      ]
     },
     "metadata": {
      "needs_background": "light"
     },
     "output_type": "display_data"
    }
   ],
   "source": [
    "fig = plt.figure()  \n",
    "ax = sns.countplot(data = df, x='Churn', hue = 'Dependents',color = 'mediumpurple')\n",
    "plt.title('Dependents x Churn')\n",
    "plt.show() "
   ]
  },
  {
   "cell_type": "code",
   "execution_count": 140,
   "id": "8d138b08",
   "metadata": {
    "colab": {
     "base_uri": "https://localhost:8080/"
    },
    "id": "8d138b08",
    "outputId": "e968f595-835d-455c-f356-45f503209d80"
   },
   "outputs": [
    {
     "data": {
      "image/png": "[encoded data removed]",
      "text/plain": [
       "<Figure size 432x288 with 1 Axes>"
      ]
     },
     "metadata": {
      "needs_background": "light"
     },
     "output_type": "display_data"
    }
   ],
   "source": [
    "fig = plt.figure()  \n",
    "ax = sns.countplot(data = df, x='Churn', hue = 'PhoneService', color = 'mediumpurple')\n",
    "plt.title('Phone Service x Churn')\n",
    "plt.show() "
   ]
  },
  {
   "cell_type": "code",
   "execution_count": 141,
   "id": "VEyBrPu4SAeu",
   "metadata": {
    "id": "VEyBrPu4SAeu"
   },
   "outputs": [],
   "source": [
    "df['OnlineSecurity'].replace('No internet service','No', inplace=True)\n",
    "df['OnlineBackup'].replace('No internet service','No', inplace=True)\n",
    "df['DeviceProtection'].replace('No internet service','No', inplace=True)\n",
    "df['TechSupport'].replace('No internet service','No', inplace=True)\n",
    "df['StreamingTV'].replace('No internet service','No', inplace=True)\n",
    "df['StreamingMovies'].replace('No internet service','No', inplace=True)"
   ]
  },
  {
   "cell_type": "code",
   "execution_count": 142,
   "id": "cabfc2e5",
   "metadata": {},
   "outputs": [
    {
     "data": {
      "image/png": "[encoded data removed]",
      "text/plain": [
       "<Figure size 432x288 with 1 Axes>"
      ]
     },
     "metadata": {
      "needs_background": "light"
     },
     "output_type": "display_data"
    }
   ],
   "source": [
    "fig = plt.figure()  \n",
    "ax = sns.countplot(data = df, x='Churn', hue = 'OnlineSecurity',color = 'mediumpurple')\n",
    "plt.title('Online Security x Churn')\n",
    "plt.show() "
   ]
  },
  {
   "cell_type": "code",
   "execution_count": 143,
   "id": "29f708be",
   "metadata": {
    "colab": {
     "base_uri": "https://localhost:8080/"
    },
    "id": "29f708be",
    "outputId": "2b1c0e42-5899-499a-f42b-cc120d28d87a"
   },
   "outputs": [
    {
     "data": {
      "image/png": "[encoded data removed]",
      "text/plain": [
       "<Figure size 432x288 with 1 Axes>"
      ]
     },
     "metadata": {
      "needs_background": "light"
     },
     "output_type": "display_data"
    }
   ],
   "source": [
    "fig = plt.figure()  \n",
    "ax = sns.countplot(data = df, x='Churn', hue = 'OnlineBackup',color = 'mediumpurple')\n",
    "plt.title('Online Backup x Churn')\n",
    "plt.show() "
   ]
  },
  {
   "cell_type": "code",
   "execution_count": 144,
   "id": "895b1b36",
   "metadata": {
    "colab": {
     "base_uri": "https://localhost:8080/"
    },
    "id": "895b1b36",
    "outputId": "745a5511-64c3-4876-9725-544db31b8a96"
   },
   "outputs": [
    {
     "data": {
      "image/png": "[encoded data removed]",
      "text/plain": [
       "<Figure size 432x288 with 1 Axes>"
      ]
     },
     "metadata": {
      "needs_background": "light"
     },
     "output_type": "display_data"
    }
   ],
   "source": [
    "fig = plt.figure()  \n",
    "ax = sns.countplot(data = df, x='Churn', hue = 'DeviceProtection',color = 'mediumpurple')\n",
    "plt.title('Device Protection x Churn')\n",
    "plt.show() "
   ]
  },
  {
   "cell_type": "code",
   "execution_count": 145,
   "id": "fc59d4b6",
   "metadata": {
    "colab": {
     "base_uri": "https://localhost:8080/"
    },
    "id": "fc59d4b6",
    "outputId": "c24186be-3762-487a-9e92-7cb33e5c6b75"
   },
   "outputs": [
    {
     "data": {
      "image/png": "[encoded data removed]",
      "text/plain": [
       "<Figure size 432x288 with 1 Axes>"
      ]
     },
     "metadata": {
      "needs_background": "light"
     },
     "output_type": "display_data"
    }
   ],
   "source": [
    "fig = plt.figure()  \n",
    "ax = sns.countplot(data = df, x='Churn', hue = 'TechSupport',color = 'mediumpurple')\n",
    "plt.title('Tech Support x Churn')\n",
    "plt.show() "
   ]
  },
  {
   "cell_type": "code",
   "execution_count": 146,
   "id": "84d6e6cf",
   "metadata": {
    "colab": {
     "base_uri": "https://localhost:8080/"
    },
    "id": "84d6e6cf",
    "outputId": "241d6dc0-627e-40fb-b08c-b7d9f209807b"
   },
   "outputs": [
    {
     "data": {
      "image/png": "[encoded data removed]",
      "text/plain": [
       "<Figure size 432x288 with 1 Axes>"
      ]
     },
     "metadata": {
      "needs_background": "light"
     },
     "output_type": "display_data"
    }
   ],
   "source": [
    "fig = plt.figure()  \n",
    "ax = sns.countplot(data = df, x='Churn', hue = 'StreamingTV', color = 'mediumpurple')\n",
    "plt.title('Streaming TV x Churn')\n",
    "plt.show() "
   ]
  },
  {
   "cell_type": "code",
   "execution_count": 147,
   "id": "24539813",
   "metadata": {
    "colab": {
     "base_uri": "https://localhost:8080/"
    },
    "id": "24539813",
    "outputId": "1eecf947-a8a9-4f7e-80e5-bb1439e17622",
    "scrolled": true
   },
   "outputs": [
    {
     "data": {
      "image/png": "[encoded data removed]",
      "text/plain": [
       "<Figure size 432x288 with 1 Axes>"
      ]
     },
     "metadata": {
      "needs_background": "light"
     },
     "output_type": "display_data"
    }
   ],
   "source": [
    "fig = plt.figure()  \n",
    "ax = sns.countplot(data = df, x='Churn', hue = 'StreamingMovies',color = 'mediumpurple')\n",
    "plt.title('StreamingMovies x Churn')\n",
    "plt.show() "
   ]
  },
  {
   "cell_type": "code",
   "execution_count": 148,
   "id": "34aec44e",
   "metadata": {},
   "outputs": [
    {
     "data": {
      "image/png": "[encoded data removed]",
      "text/plain": [
       "<Figure size 432x288 with 1 Axes>"
      ]
     },
     "metadata": {
      "needs_background": "light"
     },
     "output_type": "display_data"
    }
   ],
   "source": [
    "fig = plt.figure()  \n",
    "ax = sns.countplot(data = df, x='Churn', hue = 'Contract',color = 'mediumpurple')\n",
    "plt.title('Contract x Churn')\n",
    "plt.show() "
   ]
  },
  {
   "cell_type": "markdown",
   "id": "O8rLUhiNHoex",
   "metadata": {
    "id": "O8rLUhiNHoex"
   },
   "source": [
    "\n",
    "\n",
    "```\n",
    "`# Ini diformat sebagai kode`\n",
    "```\n",
    "\n",
    "#Modelling"
   ]
  },
  {
   "cell_type": "markdown",
   "id": "926914b1",
   "metadata": {
    "id": "926914b1"
   },
   "source": [
    "### Yes No Feature Dummies"
   ]
  },
  {
   "cell_type": "code",
   "execution_count": 149,
   "id": "gw61z6eNb3_L",
   "metadata": {
    "id": "gw61z6eNb3_L"
   },
   "outputs": [],
   "source": [
    "df['Churn'] = df['Churn'].map(lambda s :1  if s =='Yes' else 0)"
   ]
  },
  {
   "cell_type": "code",
   "execution_count": 150,
   "id": "6a2889b4",
   "metadata": {
    "id": "6a2889b4"
   },
   "outputs": [],
   "source": [
    "df['MultipleLines'] = df['MultipleLines'].map(lambda s :1  if s =='Yes' else 0)"
   ]
  },
  {
   "cell_type": "code",
   "execution_count": 151,
   "id": "pkzs4tx6ti7R",
   "metadata": {
    "id": "pkzs4tx6ti7R"
   },
   "outputs": [],
   "source": [
    "df['InternetService'] = df['InternetService'].map(lambda s :1  if s =='Yes' else 0)"
   ]
  },
  {
   "cell_type": "code",
   "execution_count": 152,
   "id": "T6YWkjiDteRp",
   "metadata": {
    "id": "T6YWkjiDteRp"
   },
   "outputs": [],
   "source": [
    "df['OnlineSecurity'] = df['OnlineSecurity'].map(lambda s :1  if s =='Yes' else 0)"
   ]
  },
  {
   "cell_type": "code",
   "execution_count": 153,
   "id": "FKp3lk1Qt7H_",
   "metadata": {
    "id": "FKp3lk1Qt7H_"
   },
   "outputs": [],
   "source": [
    "df['OnlineBackup'] = df['OnlineBackup'].map(lambda s :1  if s =='Yes' else 0)"
   ]
  },
  {
   "cell_type": "code",
   "execution_count": 154,
   "id": "tuoRW9b8t6SF",
   "metadata": {
    "id": "tuoRW9b8t6SF"
   },
   "outputs": [],
   "source": [
    "df['DeviceProtection'] = df['DeviceProtection'].map(lambda s :1  if s =='Yes' else 0)"
   ]
  },
  {
   "cell_type": "code",
   "execution_count": 155,
   "id": "l9UEmkDLubOC",
   "metadata": {
    "id": "l9UEmkDLubOC"
   },
   "outputs": [],
   "source": [
    "df['TechSupport'] = df['TechSupport'].map(lambda s :1  if s =='Yes' else 0)"
   ]
  },
  {
   "cell_type": "code",
   "execution_count": 156,
   "id": "lDLUirUxucK-",
   "metadata": {
    "id": "lDLUirUxucK-"
   },
   "outputs": [],
   "source": [
    "df['StreamingTV'] = df['StreamingTV'].map(lambda s :1  if s =='Yes' else 0)"
   ]
  },
  {
   "cell_type": "code",
   "execution_count": 157,
   "id": "Z_pNj5vwnJIT",
   "metadata": {
    "id": "Z_pNj5vwnJIT"
   },
   "outputs": [],
   "source": [
    "df['StreamingMovies'] = df['StreamingMovies'].map(lambda s :1  if s =='Yes' else 0)"
   ]
  },
  {
   "cell_type": "code",
   "execution_count": 158,
   "id": "ff577886",
   "metadata": {
    "id": "ff577886"
   },
   "outputs": [],
   "source": [
    "df['SeniorCitizen'] = df['SeniorCitizen'].map(lambda s :1  if s =='Yes' else 0)"
   ]
  },
  {
   "cell_type": "code",
   "execution_count": 159,
   "id": "f9440fd7",
   "metadata": {
    "id": "f9440fd7"
   },
   "outputs": [],
   "source": [
    "df['Dependents'] = df['Dependents'].map(lambda s :1  if s =='Yes' else 0)"
   ]
  },
  {
   "cell_type": "code",
   "execution_count": 160,
   "id": "e6612d7d",
   "metadata": {
    "id": "e6612d7d"
   },
   "outputs": [],
   "source": [
    "df['PhoneService'] = df['PhoneService'].map(lambda s :1  if s =='Yes' else 0)"
   ]
  },
  {
   "cell_type": "code",
   "execution_count": 161,
   "id": "qzf0Y20QeTFm",
   "metadata": {
    "id": "qzf0Y20QeTFm"
   },
   "outputs": [],
   "source": [
    "df['Partner'] = df['Partner'].map(lambda s :1  if s =='Yes' else 0)"
   ]
  },
  {
   "cell_type": "code",
   "execution_count": 162,
   "id": "8878455e",
   "metadata": {
    "id": "8878455e"
   },
   "outputs": [],
   "source": [
    "df['PaperlessBilling'] = df['PaperlessBilling'].map(lambda s :1  if s =='Yes' else 0)"
   ]
  },
  {
   "cell_type": "code",
   "execution_count": 163,
   "id": "fd19c518",
   "metadata": {},
   "outputs": [
    {
     "data": {
      "text/plain": [
       "0    5174\n",
       "1    1869\n",
       "Name: Churn, dtype: int64"
      ]
     },
     "execution_count": 163,
     "metadata": {},
     "output_type": "execute_result"
    }
   ],
   "source": [
    "df[\"Churn\"].value_counts()"
   ]
  },
  {
   "cell_type": "markdown",
   "id": "yX5OTYwlH0Qe",
   "metadata": {
    "id": "yX5OTYwlH0Qe"
   },
   "source": [
    "##Oversampling Solving"
   ]
  },
  {
   "cell_type": "code",
   "execution_count": 164,
   "id": "2acc9357",
   "metadata": {
    "id": "2acc9357"
   },
   "outputs": [],
   "source": [
    "from sklearn.utils import resample\n",
    " \n",
    "df_majority = df[(df['Churn']==0)] \n",
    "df_minority = df[(df['Churn']==1)] \n",
    "df_minority_upsampled = resample(df_minority, \n",
    "                                 replace=True,   \n",
    "                                 n_samples= 5174,\n",
    "                                 random_state=42)\n",
    "df = pd.concat([df_minority_upsampled, df_majority])"
   ]
  },
  {
   "cell_type": "markdown",
   "id": "FNmZLhR1H4zT",
   "metadata": {
    "id": "FNmZLhR1H4zT"
   },
   "source": [
    "##Dummies Tranformation"
   ]
  },
  {
   "cell_type": "code",
   "execution_count": 165,
   "id": "a0546afc",
   "metadata": {
    "colab": {
     "base_uri": "https://localhost:8080/",
     "height": 522
    },
    "id": "a0546afc",
    "outputId": "f90015fb-6e35-4092-c6c7-3ca28c305794",
    "scrolled": true
   },
   "outputs": [
    {
     "data": {
      "text/html": [
       "<div>\n",
       "<style scoped>\n",
       "    .dataframe tbody tr th:only-of-type {\n",
       "        vertical-align: middle;\n",
       "    }\n",
       "\n",
       "    .dataframe tbody tr th {\n",
       "        vertical-align: top;\n",
       "    }\n",
       "\n",
       "    .dataframe thead th {\n",
       "        text-align: right;\n",
       "    }\n",
       "</style>\n",
       "<table border=\"1\" class=\"dataframe\">\n",
       "  <thead>\n",
       "    <tr style=\"text-align: right;\">\n",
       "      <th></th>\n",
       "      <th>SeniorCitizen</th>\n",
       "      <th>Partner</th>\n",
       "      <th>Dependents</th>\n",
       "      <th>tenure</th>\n",
       "      <th>PhoneService</th>\n",
       "      <th>MultipleLines</th>\n",
       "      <th>InternetService</th>\n",
       "      <th>OnlineSecurity</th>\n",
       "      <th>OnlineBackup</th>\n",
       "      <th>DeviceProtection</th>\n",
       "      <th>...</th>\n",
       "      <th>MonthlyCharges</th>\n",
       "      <th>TotalCharges</th>\n",
       "      <th>Churn</th>\n",
       "      <th>Contract_Month-to-month</th>\n",
       "      <th>Contract_One year</th>\n",
       "      <th>Contract_Two year</th>\n",
       "      <th>PaymentMethod_Bank transfer (automatic)</th>\n",
       "      <th>PaymentMethod_Credit card (automatic)</th>\n",
       "      <th>PaymentMethod_Electronic check</th>\n",
       "      <th>PaymentMethod_Mailed check</th>\n",
       "    </tr>\n",
       "  </thead>\n",
       "  <tbody>\n",
       "    <tr>\n",
       "      <th>4290</th>\n",
       "      <td>0</td>\n",
       "      <td>1</td>\n",
       "      <td>1</td>\n",
       "      <td>1</td>\n",
       "      <td>0</td>\n",
       "      <td>0</td>\n",
       "      <td>0</td>\n",
       "      <td>0</td>\n",
       "      <td>0</td>\n",
       "      <td>0</td>\n",
       "      <td>...</td>\n",
       "      <td>40.10</td>\n",
       "      <td>40.10</td>\n",
       "      <td>1</td>\n",
       "      <td>1</td>\n",
       "      <td>0</td>\n",
       "      <td>0</td>\n",
       "      <td>0</td>\n",
       "      <td>0</td>\n",
       "      <td>1</td>\n",
       "      <td>0</td>\n",
       "    </tr>\n",
       "    <tr>\n",
       "      <th>5547</th>\n",
       "      <td>0</td>\n",
       "      <td>0</td>\n",
       "      <td>0</td>\n",
       "      <td>3</td>\n",
       "      <td>1</td>\n",
       "      <td>0</td>\n",
       "      <td>0</td>\n",
       "      <td>0</td>\n",
       "      <td>0</td>\n",
       "      <td>0</td>\n",
       "      <td>...</td>\n",
       "      <td>89.45</td>\n",
       "      <td>240.45</td>\n",
       "      <td>1</td>\n",
       "      <td>1</td>\n",
       "      <td>0</td>\n",
       "      <td>0</td>\n",
       "      <td>0</td>\n",
       "      <td>0</td>\n",
       "      <td>1</td>\n",
       "      <td>0</td>\n",
       "    </tr>\n",
       "    <tr>\n",
       "      <th>3302</th>\n",
       "      <td>0</td>\n",
       "      <td>0</td>\n",
       "      <td>0</td>\n",
       "      <td>31</td>\n",
       "      <td>1</td>\n",
       "      <td>1</td>\n",
       "      <td>0</td>\n",
       "      <td>0</td>\n",
       "      <td>1</td>\n",
       "      <td>1</td>\n",
       "      <td>...</td>\n",
       "      <td>103.45</td>\n",
       "      <td>3066.45</td>\n",
       "      <td>1</td>\n",
       "      <td>0</td>\n",
       "      <td>1</td>\n",
       "      <td>0</td>\n",
       "      <td>0</td>\n",
       "      <td>0</td>\n",
       "      <td>1</td>\n",
       "      <td>0</td>\n",
       "    </tr>\n",
       "    <tr>\n",
       "      <th>4949</th>\n",
       "      <td>0</td>\n",
       "      <td>0</td>\n",
       "      <td>0</td>\n",
       "      <td>5</td>\n",
       "      <td>0</td>\n",
       "      <td>0</td>\n",
       "      <td>0</td>\n",
       "      <td>0</td>\n",
       "      <td>1</td>\n",
       "      <td>0</td>\n",
       "      <td>...</td>\n",
       "      <td>51.00</td>\n",
       "      <td>305.95</td>\n",
       "      <td>1</td>\n",
       "      <td>1</td>\n",
       "      <td>0</td>\n",
       "      <td>0</td>\n",
       "      <td>0</td>\n",
       "      <td>0</td>\n",
       "      <td>0</td>\n",
       "      <td>1</td>\n",
       "    </tr>\n",
       "    <tr>\n",
       "      <th>4307</th>\n",
       "      <td>0</td>\n",
       "      <td>0</td>\n",
       "      <td>0</td>\n",
       "      <td>37</td>\n",
       "      <td>1</td>\n",
       "      <td>1</td>\n",
       "      <td>0</td>\n",
       "      <td>0</td>\n",
       "      <td>0</td>\n",
       "      <td>0</td>\n",
       "      <td>...</td>\n",
       "      <td>96.55</td>\n",
       "      <td>3580.30</td>\n",
       "      <td>1</td>\n",
       "      <td>1</td>\n",
       "      <td>0</td>\n",
       "      <td>0</td>\n",
       "      <td>0</td>\n",
       "      <td>0</td>\n",
       "      <td>1</td>\n",
       "      <td>0</td>\n",
       "    </tr>\n",
       "    <tr>\n",
       "      <th>...</th>\n",
       "      <td>...</td>\n",
       "      <td>...</td>\n",
       "      <td>...</td>\n",
       "      <td>...</td>\n",
       "      <td>...</td>\n",
       "      <td>...</td>\n",
       "      <td>...</td>\n",
       "      <td>...</td>\n",
       "      <td>...</td>\n",
       "      <td>...</td>\n",
       "      <td>...</td>\n",
       "      <td>...</td>\n",
       "      <td>...</td>\n",
       "      <td>...</td>\n",
       "      <td>...</td>\n",
       "      <td>...</td>\n",
       "      <td>...</td>\n",
       "      <td>...</td>\n",
       "      <td>...</td>\n",
       "      <td>...</td>\n",
       "      <td>...</td>\n",
       "    </tr>\n",
       "    <tr>\n",
       "      <th>7037</th>\n",
       "      <td>0</td>\n",
       "      <td>0</td>\n",
       "      <td>0</td>\n",
       "      <td>72</td>\n",
       "      <td>1</td>\n",
       "      <td>0</td>\n",
       "      <td>0</td>\n",
       "      <td>0</td>\n",
       "      <td>0</td>\n",
       "      <td>0</td>\n",
       "      <td>...</td>\n",
       "      <td>21.15</td>\n",
       "      <td>1419.40</td>\n",
       "      <td>0</td>\n",
       "      <td>0</td>\n",
       "      <td>0</td>\n",
       "      <td>1</td>\n",
       "      <td>1</td>\n",
       "      <td>0</td>\n",
       "      <td>0</td>\n",
       "      <td>0</td>\n",
       "    </tr>\n",
       "    <tr>\n",
       "      <th>7038</th>\n",
       "      <td>0</td>\n",
       "      <td>1</td>\n",
       "      <td>1</td>\n",
       "      <td>24</td>\n",
       "      <td>1</td>\n",
       "      <td>1</td>\n",
       "      <td>0</td>\n",
       "      <td>1</td>\n",
       "      <td>0</td>\n",
       "      <td>1</td>\n",
       "      <td>...</td>\n",
       "      <td>84.80</td>\n",
       "      <td>1990.50</td>\n",
       "      <td>0</td>\n",
       "      <td>0</td>\n",
       "      <td>1</td>\n",
       "      <td>0</td>\n",
       "      <td>0</td>\n",
       "      <td>0</td>\n",
       "      <td>0</td>\n",
       "      <td>1</td>\n",
       "    </tr>\n",
       "    <tr>\n",
       "      <th>7039</th>\n",
       "      <td>0</td>\n",
       "      <td>1</td>\n",
       "      <td>1</td>\n",
       "      <td>72</td>\n",
       "      <td>1</td>\n",
       "      <td>1</td>\n",
       "      <td>0</td>\n",
       "      <td>0</td>\n",
       "      <td>1</td>\n",
       "      <td>1</td>\n",
       "      <td>...</td>\n",
       "      <td>103.20</td>\n",
       "      <td>7362.90</td>\n",
       "      <td>0</td>\n",
       "      <td>0</td>\n",
       "      <td>1</td>\n",
       "      <td>0</td>\n",
       "      <td>0</td>\n",
       "      <td>1</td>\n",
       "      <td>0</td>\n",
       "      <td>0</td>\n",
       "    </tr>\n",
       "    <tr>\n",
       "      <th>7040</th>\n",
       "      <td>0</td>\n",
       "      <td>1</td>\n",
       "      <td>1</td>\n",
       "      <td>11</td>\n",
       "      <td>0</td>\n",
       "      <td>0</td>\n",
       "      <td>0</td>\n",
       "      <td>1</td>\n",
       "      <td>0</td>\n",
       "      <td>0</td>\n",
       "      <td>...</td>\n",
       "      <td>29.60</td>\n",
       "      <td>346.45</td>\n",
       "      <td>0</td>\n",
       "      <td>1</td>\n",
       "      <td>0</td>\n",
       "      <td>0</td>\n",
       "      <td>0</td>\n",
       "      <td>0</td>\n",
       "      <td>1</td>\n",
       "      <td>0</td>\n",
       "    </tr>\n",
       "    <tr>\n",
       "      <th>7042</th>\n",
       "      <td>0</td>\n",
       "      <td>0</td>\n",
       "      <td>0</td>\n",
       "      <td>66</td>\n",
       "      <td>1</td>\n",
       "      <td>0</td>\n",
       "      <td>0</td>\n",
       "      <td>1</td>\n",
       "      <td>0</td>\n",
       "      <td>1</td>\n",
       "      <td>...</td>\n",
       "      <td>105.65</td>\n",
       "      <td>6844.50</td>\n",
       "      <td>0</td>\n",
       "      <td>0</td>\n",
       "      <td>0</td>\n",
       "      <td>1</td>\n",
       "      <td>1</td>\n",
       "      <td>0</td>\n",
       "      <td>0</td>\n",
       "      <td>0</td>\n",
       "    </tr>\n",
       "  </tbody>\n",
       "</table>\n",
       "<p>10348 rows × 24 columns</p>\n",
       "</div>"
      ],
      "text/plain": [
       "      SeniorCitizen  Partner  Dependents  tenure  PhoneService  MultipleLines  \\\n",
       "4290              0        1           1       1             0              0   \n",
       "5547              0        0           0       3             1              0   \n",
       "3302              0        0           0      31             1              1   \n",
       "4949              0        0           0       5             0              0   \n",
       "4307              0        0           0      37             1              1   \n",
       "...             ...      ...         ...     ...           ...            ...   \n",
       "7037              0        0           0      72             1              0   \n",
       "7038              0        1           1      24             1              1   \n",
       "7039              0        1           1      72             1              1   \n",
       "7040              0        1           1      11             0              0   \n",
       "7042              0        0           0      66             1              0   \n",
       "\n",
       "      InternetService  OnlineSecurity  OnlineBackup  DeviceProtection  ...  \\\n",
       "4290                0               0             0                 0  ...   \n",
       "5547                0               0             0                 0  ...   \n",
       "3302                0               0             1                 1  ...   \n",
       "4949                0               0             1                 0  ...   \n",
       "4307                0               0             0                 0  ...   \n",
       "...               ...             ...           ...               ...  ...   \n",
       "7037                0               0             0                 0  ...   \n",
       "7038                0               1             0                 1  ...   \n",
       "7039                0               0             1                 1  ...   \n",
       "7040                0               1             0                 0  ...   \n",
       "7042                0               1             0                 1  ...   \n",
       "\n",
       "      MonthlyCharges  TotalCharges  Churn  Contract_Month-to-month  \\\n",
       "4290           40.10         40.10      1                        1   \n",
       "5547           89.45        240.45      1                        1   \n",
       "3302          103.45       3066.45      1                        0   \n",
       "4949           51.00        305.95      1                        1   \n",
       "4307           96.55       3580.30      1                        1   \n",
       "...              ...           ...    ...                      ...   \n",
       "7037           21.15       1419.40      0                        0   \n",
       "7038           84.80       1990.50      0                        0   \n",
       "7039          103.20       7362.90      0                        0   \n",
       "7040           29.60        346.45      0                        1   \n",
       "7042          105.65       6844.50      0                        0   \n",
       "\n",
       "      Contract_One year  Contract_Two year  \\\n",
       "4290                  0                  0   \n",
       "5547                  0                  0   \n",
       "3302                  1                  0   \n",
       "4949                  0                  0   \n",
       "4307                  0                  0   \n",
       "...                 ...                ...   \n",
       "7037                  0                  1   \n",
       "7038                  1                  0   \n",
       "7039                  1                  0   \n",
       "7040                  0                  0   \n",
       "7042                  0                  1   \n",
       "\n",
       "      PaymentMethod_Bank transfer (automatic)  \\\n",
       "4290                                        0   \n",
       "5547                                        0   \n",
       "3302                                        0   \n",
       "4949                                        0   \n",
       "4307                                        0   \n",
       "...                                       ...   \n",
       "7037                                        1   \n",
       "7038                                        0   \n",
       "7039                                        0   \n",
       "7040                                        0   \n",
       "7042                                        1   \n",
       "\n",
       "      PaymentMethod_Credit card (automatic)  PaymentMethod_Electronic check  \\\n",
       "4290                                      0                               1   \n",
       "5547                                      0                               1   \n",
       "3302                                      0                               1   \n",
       "4949                                      0                               0   \n",
       "4307                                      0                               1   \n",
       "...                                     ...                             ...   \n",
       "7037                                      0                               0   \n",
       "7038                                      0                               0   \n",
       "7039                                      1                               0   \n",
       "7040                                      0                               1   \n",
       "7042                                      0                               0   \n",
       "\n",
       "      PaymentMethod_Mailed check  \n",
       "4290                           0  \n",
       "5547                           0  \n",
       "3302                           0  \n",
       "4949                           1  \n",
       "4307                           0  \n",
       "...                          ...  \n",
       "7037                           0  \n",
       "7038                           1  \n",
       "7039                           0  \n",
       "7040                           0  \n",
       "7042                           0  \n",
       "\n",
       "[10348 rows x 24 columns]"
      ]
     },
     "execution_count": 165,
     "metadata": {},
     "output_type": "execute_result"
    }
   ],
   "source": [
    "df_dummies=pd.get_dummies(df)\n",
    "df_dummies"
   ]
  },
  {
   "cell_type": "markdown",
   "id": "0bil1j9LGHYc",
   "metadata": {
    "id": "0bil1j9LGHYc"
   },
   "source": [
    "##Train Test Split"
   ]
  },
  {
   "cell_type": "code",
   "execution_count": 166,
   "id": "61f2da2f",
   "metadata": {
    "id": "61f2da2f"
   },
   "outputs": [],
   "source": [
    "X = df_dummies.loc[:, df_dummies.columns != 'Churn']\n",
    "y = df_dummies[\"Churn\"]\n",
    "\n",
    "from sklearn.model_selection import train_test_split\n",
    "X_train, X_test, y_train, y_test = train_test_split(X, y, test_size=0.3,\n",
    "                                                    random_state=1)"
   ]
  },
  {
   "cell_type": "markdown",
   "id": "KkYRZ4UEGKuf",
   "metadata": {
    "id": "KkYRZ4UEGKuf"
   },
   "source": [
    "##Standardized Numeric Data"
   ]
  },
  {
   "cell_type": "code",
   "execution_count": 167,
   "id": "AClCPV-nrLod",
   "metadata": {
    "id": "AClCPV-nrLod"
   },
   "outputs": [
    {
     "name": "stderr",
     "output_type": "stream",
     "text": [
      "E:\\Anaconda\\lib\\site-packages\\pandas\\core\\frame.py:3678: SettingWithCopyWarning: \n",
      "A value is trying to be set on a copy of a slice from a DataFrame.\n",
      "Try using .loc[row_indexer,col_indexer] = value instead\n",
      "\n",
      "See the caveats in the documentation: https://pandas.pydata.org/pandas-docs/stable/user_guide/indexing.html#returning-a-view-versus-a-copy\n",
      "  self[col] = igetitem(value, i)\n",
      "E:\\Anaconda\\lib\\site-packages\\pandas\\core\\frame.py:3678: SettingWithCopyWarning: \n",
      "A value is trying to be set on a copy of a slice from a DataFrame.\n",
      "Try using .loc[row_indexer,col_indexer] = value instead\n",
      "\n",
      "See the caveats in the documentation: https://pandas.pydata.org/pandas-docs/stable/user_guide/indexing.html#returning-a-view-versus-a-copy\n",
      "  self[col] = igetitem(value, i)\n"
     ]
    }
   ],
   "source": [
    "num_col = ['tenure', 'MonthlyCharges', 'TotalCharges']\n",
    "scaler = StandardScaler()\n",
    "\n",
    "X_train[num_col] = scaler.fit_transform(X_train[num_col])\n",
    "X_test[num_col] = scaler.transform(X_test[num_col])"
   ]
  },
  {
   "cell_type": "markdown",
   "id": "LMCtbPIIIAbq",
   "metadata": {
    "id": "LMCtbPIIIAbq"
   },
   "source": [
    "##Modelling"
   ]
  },
  {
   "cell_type": "markdown",
   "id": "b32781e6",
   "metadata": {
    "id": "b32781e6"
   },
   "source": [
    "### Logistic Regression"
   ]
  },
  {
   "cell_type": "code",
   "execution_count": 168,
   "id": "90fe0539",
   "metadata": {
    "id": "90fe0539"
   },
   "outputs": [],
   "source": [
    "from sklearn.linear_model import LogisticRegression\n",
    "\n",
    "lr=LogisticRegression()\n",
    "lr=lr.fit(X_train, y_train)"
   ]
  },
  {
   "cell_type": "markdown",
   "id": "9967f95c",
   "metadata": {
    "id": "9967f95c"
   },
   "source": [
    "### Decision Tree"
   ]
  },
  {
   "cell_type": "code",
   "execution_count": 169,
   "id": "82ceb6d6",
   "metadata": {
    "id": "82ceb6d6"
   },
   "outputs": [],
   "source": [
    "from sklearn import tree\n",
    "dtree = tree.DecisionTreeClassifier()\n",
    "dtree = dtree.fit(X_train, y_train)"
   ]
  },
  {
   "cell_type": "code",
   "execution_count": 170,
   "id": "711WkldlEh7S",
   "metadata": {
    "colab": {
     "base_uri": "https://localhost:8080/",
     "height": 323
    },
    "id": "711WkldlEh7S",
    "outputId": "855b64fb-119b-4bbf-90d7-42c4e25b8401"
   },
   "outputs": [
    {
     "data": {
      "image/png": "[encoded data removed]",
      "text/plain": [
       "<Figure size 5760x1440 with 1 Axes>"
      ]
     },
     "metadata": {
      "needs_background": "light"
     },
     "output_type": "display_data"
    }
   ],
   "source": [
    "from sklearn.tree import plot_tree, export_text\n",
    "plt.figure(figsize =(80,20))\n",
    "plt.suptitle(\"Plot Tree\", fontsize = 100)\n",
    "plot_tree(dtree, feature_names=X_train.columns, max_depth=2, filled=True);\n",
    "plt.show()"
   ]
  },
  {
   "cell_type": "code",
   "execution_count": 171,
   "id": "ahw5dg_FWFM9",
   "metadata": {
    "colab": {
     "base_uri": "https://localhost:8080/"
    },
    "id": "ahw5dg_FWFM9",
    "outputId": "625a0921-eca8-4a30-ed35-6cbe46b9d041"
   },
   "outputs": [
    {
     "name": "stdout",
     "output_type": "stream",
     "text": [
      ">1, train: 0.730, test: 0.726\n",
      ">2, train: 0.730, test: 0.726\n",
      ">3, train: 0.756, test: 0.748\n",
      ">4, train: 0.758, test: 0.751\n",
      ">5, train: 0.775, test: 0.746\n",
      ">6, train: 0.790, test: 0.767\n",
      ">7, train: 0.814, test: 0.773\n",
      ">8, train: 0.840, test: 0.791\n",
      ">9, train: 0.860, test: 0.804\n",
      ">10, train: 0.882, test: 0.810\n",
      ">11, train: 0.902, test: 0.824\n",
      ">12, train: 0.921, test: 0.822\n",
      ">13, train: 0.940, test: 0.834\n",
      ">14, train: 0.953, test: 0.847\n",
      ">15, train: 0.963, test: 0.842\n",
      ">16, train: 0.973, test: 0.845\n",
      ">17, train: 0.980, test: 0.849\n",
      ">18, train: 0.984, test: 0.851\n",
      ">19, train: 0.989, test: 0.853\n",
      ">20, train: 0.992, test: 0.855\n"
     ]
    }
   ],
   "source": [
    "values = [i for i in range(1, 21)]\n",
    "# evaluate a decision tree for each depth\n",
    "train_scores, test_scores= list(), list()\n",
    "for i in values:\n",
    "\t# configure the model\n",
    "\tmodel = DecisionTreeClassifier(max_depth=i)\n",
    "\t# fit model on the training dataset\n",
    "\tmodel.fit(X_train, y_train)\n",
    "\t# evaluate on the train dataset\n",
    "\ttrain_yhat = model.predict(X_train)\n",
    "\ttrain_acc = accuracy_score(y_train, train_yhat)\n",
    "\ttrain_scores.append(train_acc)\n",
    "\t# evaluate on the test dataset\n",
    "\ttest_yhat = model.predict(X_test)\n",
    "\ttest_acc = accuracy_score(y_test, test_yhat)\n",
    "\ttest_scores.append(test_acc)\n",
    "\t# summarize progress\n",
    "\tprint('>%d, train: %.3f, test: %.3f' % (i, train_acc, test_acc))"
   ]
  },
  {
   "cell_type": "code",
   "execution_count": 172,
   "id": "3_rEmlLjWTbb",
   "metadata": {
    "colab": {
     "base_uri": "https://localhost:8080/",
     "height": 265
    },
    "id": "3_rEmlLjWTbb",
    "outputId": "1a5f818b-169d-41e0-8c84-5ff791d6e404"
   },
   "outputs": [
    {
     "data": {
      "image/png": "[encoded data removed]",
      "text/plain": [
       "<Figure size 432x288 with 1 Axes>"
      ]
     },
     "metadata": {
      "needs_background": "light"
     },
     "output_type": "display_data"
    }
   ],
   "source": [
    "# plot of train and test scores vs tree depth\n",
    "plt.plot(values, train_scores, '-o', label='Train')\n",
    "plt.plot(values, test_scores, '-o', label='Test')\n",
    "plt.title(\"Train Test Score vs Max Depth\")\n",
    "plt.legend()\n",
    "plt.show()"
   ]
  },
  {
   "cell_type": "markdown",
   "id": "b57649c3",
   "metadata": {
    "id": "b57649c3"
   },
   "source": [
    "### Random Forest"
   ]
  },
  {
   "cell_type": "code",
   "execution_count": 173,
   "id": "a3730381",
   "metadata": {
    "colab": {
     "base_uri": "https://localhost:8080/"
    },
    "id": "a3730381",
    "outputId": "df4d9f6e-8c58-4cf7-8fb5-fe7c380947ea"
   },
   "outputs": [
    {
     "data": {
      "text/plain": [
       "RandomForestClassifier(max_depth=5, n_jobs=-1, oob_score=True, random_state=42)"
      ]
     },
     "execution_count": 173,
     "metadata": {},
     "output_type": "execute_result"
    }
   ],
   "source": [
    "from sklearn.ensemble import RandomForestClassifier\n",
    "\n",
    "classifier_rf = RandomForestClassifier(random_state=42, n_jobs=-1, max_depth=5,\n",
    "                                       n_estimators=100, oob_score=True)\n",
    "\n",
    "classifier_rf.fit(X_train, y_train)"
   ]
  },
  {
   "cell_type": "code",
   "execution_count": 174,
   "id": "WcYM6lpig8qR",
   "metadata": {
    "id": "WcYM6lpig8qR"
   },
   "outputs": [],
   "source": [
    "prediction_test=classifier_rf.predict(X_test)"
   ]
  },
  {
   "cell_type": "code",
   "execution_count": 175,
   "id": "yIiew_-LhZzR",
   "metadata": {
    "colab": {
     "base_uri": "https://localhost:8080/"
    },
    "id": "yIiew_-LhZzR",
    "outputId": "c694abde-b6d5-4462-e8eb-f87f547d00b9"
   },
   "outputs": [
    {
     "name": "stdout",
     "output_type": "stream",
     "text": [
      "Accuracy =  0.7648953301127214\n"
     ]
    }
   ],
   "source": [
    "print(\"Accuracy = \", metrics.accuracy_score(y_test, prediction_test))"
   ]
  },
  {
   "cell_type": "markdown",
   "id": "9pQ8B9G_9zaa",
   "metadata": {
    "id": "9pQ8B9G_9zaa"
   },
   "source": [
    "##Modelling With Feature Selection"
   ]
  },
  {
   "cell_type": "markdown",
   "id": "DuI47n3mILTE",
   "metadata": {
    "id": "DuI47n3mILTE"
   },
   "source": [
    "###Random Forest"
   ]
  },
  {
   "cell_type": "code",
   "execution_count": 176,
   "id": "Vn97Q-ROCfXa",
   "metadata": {
    "colab": {
     "base_uri": "https://localhost:8080/"
    },
    "id": "Vn97Q-ROCfXa",
    "outputId": "4e7aac15-9472-46ac-e7b3-2e34e4f45ff2"
   },
   "outputs": [
    {
     "data": {
      "text/plain": [
       "Index(['SeniorCitizen', 'Partner', 'Dependents', 'tenure', 'PhoneService',\n",
       "       'MultipleLines', 'InternetService', 'OnlineSecurity', 'OnlineBackup',\n",
       "       'DeviceProtection', 'TechSupport', 'StreamingTV', 'StreamingMovies',\n",
       "       'PaperlessBilling', 'MonthlyCharges', 'TotalCharges', 'Churn',\n",
       "       'Contract_Month-to-month', 'Contract_One year', 'Contract_Two year',\n",
       "       'PaymentMethod_Bank transfer (automatic)',\n",
       "       'PaymentMethod_Credit card (automatic)',\n",
       "       'PaymentMethod_Electronic check', 'PaymentMethod_Mailed check'],\n",
       "      dtype='object')"
      ]
     },
     "execution_count": 176,
     "metadata": {},
     "output_type": "execute_result"
    }
   ],
   "source": [
    "df_dummies.columns"
   ]
  },
  {
   "cell_type": "code",
   "execution_count": 177,
   "id": "fMlymckNCL7v",
   "metadata": {
    "colab": {
     "base_uri": "https://localhost:8080/"
    },
    "id": "fMlymckNCL7v",
    "outputId": "eabd6567-1745-4422-fe65-a879e2d98776",
    "scrolled": true
   },
   "outputs": [
    {
     "name": "stdout",
     "output_type": "stream",
     "text": [
      "('SeniorCitizen', 0.0)\n",
      "('Partner', 0.004247655047440182)\n",
      "('Dependents', 0.012254526150462757)\n",
      "('tenure', 0.13794860914608803)\n",
      "('PhoneService', 0.0026161645295419956)\n",
      "('MultipleLines', 0.006432778763826101)\n",
      "('InternetService', 0.0)\n",
      "('OnlineSecurity', 0.018054413407158545)\n",
      "('OnlineBackup', 0.0049722505076665304)\n",
      "('DeviceProtection', 0.0024967898725640173)\n",
      "('TechSupport', 0.018953083847972316)\n",
      "('StreamingTV', 0.006234534456831072)\n",
      "('StreamingMovies', 0.014303101199007549)\n",
      "('PaperlessBilling', 0.03899441235692745)\n",
      "('MonthlyCharges', 0.09577437392049555)\n",
      "('TotalCharges', 0.07940650924079165)\n",
      "('Churn', 0.2557342666254281)\n",
      "('Contract_Month-to-month', 0.04833908103190443)\n",
      "('Contract_One year', 0.13436172335790725)\n",
      "('Contract_Two year', 0.0034106861256996356)\n",
      "('PaymentMethod_Bank transfer (automatic)', 0.005854205769889111)\n",
      "('PaymentMethod_Credit card (automatic)', 0.10276326315347012)\n",
      "('PaymentMethod_Electronic check', 0.006847571488927601)\n"
     ]
    }
   ],
   "source": [
    "feat_labels = ['SeniorCitizen', 'Partner', 'Dependents', 'tenure', 'PhoneService',\n",
    "       'MultipleLines', 'InternetService', 'OnlineSecurity', 'OnlineBackup',\n",
    "       'DeviceProtection', 'TechSupport', 'StreamingTV', 'StreamingMovies',\n",
    "       'PaperlessBilling', 'MonthlyCharges', 'TotalCharges', 'Churn',\n",
    "       'Contract_Month-to-month', 'Contract_One year', 'Contract_Two year',\n",
    "       'PaymentMethod_Bank transfer (automatic)',\n",
    "       'PaymentMethod_Credit card (automatic)',\n",
    "       'PaymentMethod_Electronic check', 'PaymentMethod_Mailed check']\n",
    "for feature in zip(feat_labels, classifier_rf.feature_importances_):\n",
    "    print(feature)"
   ]
  },
  {
   "cell_type": "code",
   "execution_count": 178,
   "id": "GBi9gvN52Fjj",
   "metadata": {
    "colab": {
     "base_uri": "https://localhost:8080/"
    },
    "id": "GBi9gvN52Fjj",
    "outputId": "67e5fa71-35b4-43fc-bc73-1cb58406fd2a"
   },
   "outputs": [
    {
     "data": {
      "text/plain": [
       "SelectFromModel(estimator=RandomForestClassifier(max_depth=5, n_jobs=-1,\n",
       "                                                 oob_score=True,\n",
       "                                                 random_state=42),\n",
       "                threshold=0.15)"
      ]
     },
     "execution_count": 178,
     "metadata": {},
     "output_type": "execute_result"
    }
   ],
   "source": [
    "#RF Classifier\n",
    "from sklearn.feature_selection import SelectFromModel\n",
    "sfm = SelectFromModel(classifier_rf, threshold=0.15)\n",
    "sfm.fit(X_train, y_train)"
   ]
  },
  {
   "cell_type": "code",
   "execution_count": 179,
   "id": "KqaIfcVyC_ZK",
   "metadata": {
    "id": "KqaIfcVyC_ZK"
   },
   "outputs": [],
   "source": [
    "X_important_train = sfm.transform(X_train)\n",
    "X_important_test = sfm.transform(X_test)"
   ]
  },
  {
   "cell_type": "code",
   "execution_count": 180,
   "id": "F4QFskksDgwM",
   "metadata": {
    "colab": {
     "base_uri": "https://localhost:8080/"
    },
    "id": "F4QFskksDgwM",
    "outputId": "1ed121e2-7506-443b-c108-7eea4ae75b3e"
   },
   "outputs": [
    {
     "data": {
      "text/plain": [
       "RandomForestClassifier(n_estimators=10000, n_jobs=-1, random_state=0)"
      ]
     },
     "execution_count": 180,
     "metadata": {},
     "output_type": "execute_result"
    }
   ],
   "source": [
    "# Create a new random forest classifier for the most important features\n",
    "clf_important = RandomForestClassifier(n_estimators=10000, random_state=0, n_jobs=-1)\n",
    "\n",
    "# Train the new classifier on the new dataset containing the most important features\n",
    "clf_important.fit(X_important_train, y_train)"
   ]
  },
  {
   "cell_type": "code",
   "execution_count": 181,
   "id": "TITLJLk1DhbX",
   "metadata": {
    "colab": {
     "base_uri": "https://localhost:8080/"
    },
    "id": "TITLJLk1DhbX",
    "outputId": "9085310b-1fb2-4d32-cebd-d415a92538d8"
   },
   "outputs": [
    {
     "data": {
      "text/plain": [
       "0.725925925925926"
      ]
     },
     "execution_count": 181,
     "metadata": {},
     "output_type": "execute_result"
    }
   ],
   "source": [
    "# Apply The Full Featured Classifier To The Test Data\n",
    "y_important_pred = clf_important.predict(X_important_test)\n",
    "\n",
    "# View The Accuracy Of Our Limited Feature (2 Features) Model\n",
    "accuracy_score(y_test, y_important_pred)"
   ]
  },
  {
   "cell_type": "markdown",
   "id": "0fdceb50",
   "metadata": {
    "id": "0fdceb50"
   },
   "source": [
    "## Hyperparameter Tuning"
   ]
  },
  {
   "cell_type": "markdown",
   "id": "ugaAEObKDBUw",
   "metadata": {
    "id": "ugaAEObKDBUw"
   },
   "source": [
    "###Hyperparameter tuning model with all features"
   ]
  },
  {
   "cell_type": "markdown",
   "id": "tfi6Vw3qFNqS",
   "metadata": {
    "id": "tfi6Vw3qFNqS"
   },
   "source": [
    "####RandomForest"
   ]
  },
  {
   "cell_type": "code",
   "execution_count": 182,
   "id": "85702e1e",
   "metadata": {
    "id": "85702e1e"
   },
   "outputs": [],
   "source": [
    "rf = RandomForestClassifier(random_state=42, n_jobs=-1)"
   ]
  },
  {
   "cell_type": "code",
   "execution_count": 183,
   "id": "Nv4A8tBh2gqS",
   "metadata": {
    "id": "Nv4A8tBh2gqS"
   },
   "outputs": [],
   "source": [
    "params = {\n",
    "    'max_depth': [2,3,5,10,20],\n",
    "    'min_samples_leaf': [5,10,20,50,100,200],\n",
    "    'n_estimators': [10,25,30,50,100,200],\n",
    "    'max_features': ['auto','sqrt'],\n",
    "    'bootstrap':[True,False]\n",
    "}"
   ]
  },
  {
   "cell_type": "code",
   "execution_count": null,
   "id": "lb8VQS1S2nM8",
   "metadata": {
    "colab": {
     "base_uri": "https://localhost:8080/"
    },
    "id": "lb8VQS1S2nM8",
    "outputId": "7261444e-b015-4ca8-c114-9a3271b875c2"
   },
   "outputs": [
    {
     "name": "stdout",
     "output_type": "stream",
     "text": [
      "Fitting 4 folds for each of 720 candidates, totalling 2880 fits\n"
     ]
    }
   ],
   "source": [
    "from sklearn.model_selection import GridSearchCV\n",
    "grid_search = GridSearchCV(estimator=rf,\n",
    "                           param_grid=params,\n",
    "                           cv = 4,\n",
    "                           n_jobs=-1, verbose=1, scoring=\"accuracy\")\n",
    "grid_search.fit(X_train, y_train)"
   ]
  },
  {
   "cell_type": "code",
   "execution_count": null,
   "id": "hkUyUpjm2qQ5",
   "metadata": {
    "colab": {
     "base_uri": "https://localhost:8080/"
    },
    "id": "hkUyUpjm2qQ5",
    "outputId": "5c11d707-e4a8-4a50-bc1b-3c7618a4b540"
   },
   "outputs": [],
   "source": [
    "grid_search.best_score_"
   ]
  },
  {
   "cell_type": "code",
   "execution_count": null,
   "id": "X9_pRMBY20yL",
   "metadata": {
    "colab": {
     "base_uri": "https://localhost:8080/"
    },
    "id": "X9_pRMBY20yL",
    "outputId": "fe8878a1-f570-49d9-948a-a9043082b14d"
   },
   "outputs": [],
   "source": [
    "rf_best = grid_search.best_estimator_\n",
    "rf_best.fit(X_train, y_train)"
   ]
  },
  {
   "cell_type": "markdown",
   "id": "JM1c7XCEEARL",
   "metadata": {
    "id": "JM1c7XCEEARL"
   },
   "source": [
    "####Decision Tree"
   ]
  },
  {
   "cell_type": "code",
   "execution_count": null,
   "id": "VO9nGBcKEC9S",
   "metadata": {
    "colab": {
     "base_uri": "https://localhost:8080/"
    },
    "id": "VO9nGBcKEC9S",
    "outputId": "f5f207c4-e08f-4a0d-eb23-ca38c6998110"
   },
   "outputs": [
    {
     "data": {
      "text/plain": [
       "DecisionTreeClassifier(max_depth=1000, random_state=42)"
      ]
     },
     "execution_count": 103,
     "metadata": {},
     "output_type": "execute_result"
    }
   ],
   "source": [
    "from sklearn import tree\n",
    "dtree = tree.DecisionTreeClassifier(max_depth=1000, random_state=42)\n",
    "dtree.fit(X_train, y_train)"
   ]
  },
  {
   "cell_type": "code",
   "execution_count": null,
   "id": "Ltx3RPdBFu_Y",
   "metadata": {
    "colab": {
     "base_uri": "https://localhost:8080/"
    },
    "id": "Ltx3RPdBFu_Y",
    "outputId": "151a630b-66cd-426e-ee2f-55956e7473ac"
   },
   "outputs": [
    {
     "data": {
      "text/plain": [
       "0.9971006489023885"
      ]
     },
     "execution_count": 117,
     "metadata": {},
     "output_type": "execute_result"
    }
   ],
   "source": [
    "dtree = tree.DecisionTreeClassifier(max_leaf_nodes=4000, random_state=42)\n",
    "dtree.fit(X_train, y_train)\n",
    "dtree.score(X_train, y_train)"
   ]
  },
  {
   "cell_type": "code",
   "execution_count": null,
   "id": "BDoeclNURAxY",
   "metadata": {
    "colab": {
     "base_uri": "https://localhost:8080/"
    },
    "id": "BDoeclNURAxY",
    "outputId": "dcdff2a4-550e-42fa-921a-bad552e4fe31"
   },
   "outputs": [
    {
     "name": "stdout",
     "output_type": "stream",
     "text": [
      "0.8573268921095009\n"
     ]
    }
   ],
   "source": [
    "y_dtree = dtree.predict(X_test)\n",
    "print(accuracy_score(y_test, y_dtree))"
   ]
  },
  {
   "cell_type": "markdown",
   "id": "pqTvpJGMF69B",
   "metadata": {
    "id": "pqTvpJGMF69B"
   },
   "source": [
    "####Logistic Regression"
   ]
  },
  {
   "cell_type": "code",
   "execution_count": null,
   "id": "IeaFWz4SF_Pt",
   "metadata": {
    "colab": {
     "base_uri": "https://localhost:8080/"
    },
    "id": "IeaFWz4SF_Pt",
    "outputId": "641f37b0-1c4c-46f2-9ab5-0960ec01c527"
   },
   "outputs": [
    {
     "name": "stdout",
     "output_type": "stream",
     "text": [
      "Best Penalty: l2\n",
      "Best C: 4.281332398719396\n",
      "              precision    recall  f1-score   support\n",
      "\n",
      "           0       0.78      0.72      0.75      1545\n",
      "           1       0.74      0.79      0.77      1560\n",
      "\n",
      "    accuracy                           0.76      3105\n",
      "   macro avg       0.76      0.76      0.76      3105\n",
      "weighted avg       0.76      0.76      0.76      3105\n",
      "\n"
     ]
    },
    {
     "name": "stderr",
     "output_type": "stream",
     "text": [
      "/usr/local/lib/python3.7/dist-packages/sklearn/model_selection/_validation.py:372: FitFailedWarning: \n",
      "200 fits failed out of a total of 400.\n",
      "The score on these train-test partitions for these parameters will be set to nan.\n",
      "If these failures are not expected, you can try to debug them by setting error_score='raise'.\n",
      "\n",
      "Below are more details about the failures:\n",
      "--------------------------------------------------------------------------------\n",
      "200 fits failed with the following error:\n",
      "Traceback (most recent call last):\n",
      "  File \"/usr/local/lib/python3.7/dist-packages/sklearn/model_selection/_validation.py\", line 680, in _fit_and_score\n",
      "    estimator.fit(X_train, y_train, **fit_params)\n",
      "  File \"/usr/local/lib/python3.7/dist-packages/sklearn/linear_model/_logistic.py\", line 1461, in fit\n",
      "    solver = _check_solver(self.solver, self.penalty, self.dual)\n",
      "  File \"/usr/local/lib/python3.7/dist-packages/sklearn/linear_model/_logistic.py\", line 449, in _check_solver\n",
      "    % (solver, penalty)\n",
      "ValueError: Solver lbfgs supports only 'l2' or 'none' penalties, got l1 penalty.\n",
      "\n",
      "  warnings.warn(some_fits_failed_message, FitFailedWarning)\n",
      "/usr/local/lib/python3.7/dist-packages/sklearn/model_selection/_search.py:972: UserWarning: One or more of the test scores are non-finite: [       nan 0.74320328        nan 0.75272928        nan 0.75963231\n",
      "        nan 0.763498          nan 0.76391179        nan 0.76197771\n",
      "        nan 0.76377196        nan 0.7658434         nan 0.76625738\n",
      "        nan 0.76681006        nan 0.76736235        nan 0.76763822\n",
      "        nan 0.76750029        nan 0.76736216        nan 0.76736216\n",
      "        nan 0.76736216        nan 0.76736216        nan 0.76736216\n",
      "        nan 0.76736216        nan 0.76736216]\n",
      "  category=UserWarning,\n"
     ]
    }
   ],
   "source": [
    "from sklearn.linear_model import LogisticRegression\n",
    "#Hyperparameters\n",
    "penalty = ['l1', 'l2']\n",
    "C = np.logspace(-4,4,20)\n",
    "hyperparameters = dict(penalty=penalty, C=C)\n",
    "logreg = LogisticRegression()\n",
    "#Grid Search\n",
    "lr_tune = GridSearchCV(logreg, hyperparameters, cv=10)\n",
    "#Fitting Model\n",
    "best_model = lr_tune.fit(X_train,y_train)\n",
    "print('Best Penalty:', best_model.best_estimator_.get_params()['penalty'])\n",
    "print('Best C:', best_model.best_estimator_.get_params()['C'])\n",
    "#Prediksi menggunakan model baru\n",
    "y_pred = best_model.predict(X_test)\n",
    "#Check performa dari model\n",
    "from sklearn.metrics import classification_report\n",
    "print(classification_report(y_test, y_pred))"
   ]
  },
  {
   "cell_type": "markdown",
   "id": "kO-rERCHDJcN",
   "metadata": {
    "id": "kO-rERCHDJcN"
   },
   "source": [
    "###Hyperparameters with model from feature selection"
   ]
  },
  {
   "cell_type": "markdown",
   "id": "fzB5HUo3IiKu",
   "metadata": {
    "id": "fzB5HUo3IiKu"
   },
   "source": [
    "####Random Forest"
   ]
  },
  {
   "cell_type": "code",
   "execution_count": 149,
   "id": "5qgXFOLtDILB",
   "metadata": {
    "colab": {
     "base_uri": "https://localhost:8080/"
    },
    "id": "5qgXFOLtDILB",
    "outputId": "0ea99844-ae77-4b88-d590-5ae8c995efab"
   },
   "outputs": [
    {
     "name": "stdout",
     "output_type": "stream",
     "text": [
      "Fitting 4 folds for each of 720 candidates, totalling 2880 fits\n"
     ]
    },
    {
     "data": {
      "text/plain": [
       "GridSearchCV(cv=4, estimator=RandomForestClassifier(n_jobs=-1, random_state=42),\n",
       "             n_jobs=-1,\n",
       "             param_grid={'bootstrap': [True, False],\n",
       "                         'max_depth': [2, 3, 5, 10, 20],\n",
       "                         'max_features': ['auto', 'sqrt'],\n",
       "                         'min_samples_leaf': [5, 10, 20, 50, 100, 200],\n",
       "                         'n_estimators': [10, 25, 30, 50, 100, 200]},\n",
       "             scoring='accuracy', verbose=1)"
      ]
     },
     "execution_count": 149,
     "metadata": {},
     "output_type": "execute_result"
    }
   ],
   "source": [
    "rf = RandomForestClassifier(random_state=42, n_jobs=-1)\n",
    "params = {\n",
    "    'max_depth': [2,3,5,10,20],\n",
    "    'min_samples_leaf': [5,10,20,50,100,200],\n",
    "    'n_estimators': [10,25,30,50,100,200],\n",
    "    'max_features': ['auto','sqrt'],\n",
    "    'bootstrap':[True,False]\n",
    "}\n",
    "from sklearn.model_selection import GridSearchCV\n",
    "grid_search = GridSearchCV(estimator=rf,\n",
    "                           param_grid=params,\n",
    "                           cv = 4,\n",
    "                           n_jobs=-1, verbose=1, scoring=\"accuracy\")\n",
    "grid_search.fit(X_train, y_train)\n"
   ]
  },
  {
   "cell_type": "code",
   "execution_count": 101,
   "id": "YuMiM1jPdT9B",
   "metadata": {
    "colab": {
     "base_uri": "https://localhost:8080/"
    },
    "id": "YuMiM1jPdT9B",
    "outputId": "61e1f833-300a-4db4-e048-75ccc2b6793c"
   },
   "outputs": [
    {
     "data": {
      "text/plain": [
       "0.8446782400981112"
      ]
     },
     "execution_count": 101,
     "metadata": {},
     "output_type": "execute_result"
    }
   ],
   "source": [
    "grid_search.best_score_"
   ]
  },
  {
   "cell_type": "code",
   "execution_count": 102,
   "id": "GQWVCxZAdgKj",
   "metadata": {
    "colab": {
     "base_uri": "https://localhost:8080/"
    },
    "id": "GQWVCxZAdgKj",
    "outputId": "09b1f95e-ced6-42cb-c181-0c5b68187168"
   },
   "outputs": [
    {
     "data": {
      "text/plain": [
       "RandomForestClassifier(bootstrap=False, max_depth=20, min_samples_leaf=5,\n",
       "                       n_estimators=50, n_jobs=-1, random_state=42)"
      ]
     },
     "execution_count": 102,
     "metadata": {},
     "output_type": "execute_result"
    }
   ],
   "source": [
    "rf_best = grid_search.best_estimator_\n",
    "rf_best.fit(X_important_train, y_train)"
   ]
  },
  {
   "cell_type": "markdown",
   "id": "1212ebb2",
   "metadata": {
    "id": "1212ebb2"
   },
   "source": [
    "## Evaluation"
   ]
  },
  {
   "cell_type": "code",
   "execution_count": 100,
   "id": "e70ec37d",
   "metadata": {
    "id": "e70ec37d"
   },
   "outputs": [],
   "source": [
    "y_lr = lr.predict(X_test)\n",
    "y_dtree = dtree.predict(X_test)\n",
    "y_rf=classifier_rf.predict(X_test)\n",
    "y_important_pred = clf_important.predict(X_important_test)"
   ]
  },
  {
   "cell_type": "markdown",
   "id": "YKKOne4PIxkB",
   "metadata": {
    "id": "YKKOne4PIxkB"
   },
   "source": [
    "### Accuracy Score"
   ]
  },
  {
   "cell_type": "code",
   "execution_count": 101,
   "id": "d78a7b90",
   "metadata": {
    "colab": {
     "base_uri": "https://localhost:8080/"
    },
    "id": "d78a7b90",
    "outputId": "849fa845-e806-40f4-edae-ded67b860066"
   },
   "outputs": [
    {
     "name": "stdout",
     "output_type": "stream",
     "text": [
      "0.7571658615136876\n",
      "0.8570048309178744\n",
      "0.7648953301127214\n",
      "0.725925925925926\n"
     ]
    }
   ],
   "source": [
    "from sklearn.metrics import accuracy_score\n",
    "print(accuracy_score(y_test, y_lr))\n",
    "print(accuracy_score(y_test, y_dtree))\n",
    "print(accuracy_score(y_test, y_rf))\n",
    "print(accuracy_score(y_test, y_important_pred))"
   ]
  },
  {
   "cell_type": "markdown",
   "id": "q55LFwDSI005",
   "metadata": {
    "id": "q55LFwDSI005"
   },
   "source": [
    "### Precision Score"
   ]
  },
  {
   "cell_type": "code",
   "execution_count": 102,
   "id": "EvxHyhdOH3Qs",
   "metadata": {
    "colab": {
     "base_uri": "https://localhost:8080/"
    },
    "id": "EvxHyhdOH3Qs",
    "outputId": "72bfafeb-5290-49a3-bbb0-8f2b073a895c"
   },
   "outputs": [
    {
     "name": "stdout",
     "output_type": "stream",
     "text": [
      "0.7583702000605663\n",
      "0.8647550096237733\n",
      "0.7714080459770114\n",
      "0.7526622741665114\n"
     ]
    }
   ],
   "source": [
    "from sklearn.metrics import precision_score\n",
    "print(precision_score(y_test, y_lr, average='macro'))\n",
    "print(precision_score(y_test, y_dtree, average='macro'))\n",
    "print(precision_score(y_test, y_rf, average='macro'))\n",
    "print(precision_score(y_test, y_important_pred, average='macro'))"
   ]
  },
  {
   "cell_type": "markdown",
   "id": "QEJC6gywI3V0",
   "metadata": {
    "id": "QEJC6gywI3V0"
   },
   "source": [
    "### Recall Score"
   ]
  },
  {
   "cell_type": "code",
   "execution_count": 103,
   "id": "-WeljxecH7S_",
   "metadata": {
    "colab": {
     "base_uri": "https://localhost:8080/"
    },
    "id": "-WeljxecH7S_",
    "outputId": "2f3599e3-3239-4fc9-f77d-224672ef3e48"
   },
   "outputs": [
    {
     "name": "stdout",
     "output_type": "stream",
     "text": [
      "0.7569952701020661\n",
      "0.8566529748568583\n",
      "0.76451643017177\n",
      "0.7251338063231267\n"
     ]
    }
   ],
   "source": [
    "from sklearn.metrics import recall_score\n",
    "print(recall_score(y_test, y_lr, average='macro'))\n",
    "print(recall_score(y_test, y_dtree, average='macro'))\n",
    "print(recall_score(y_test, y_rf, average='macro'))\n",
    "print(recall_score(y_test, y_important_pred, average='macro'))"
   ]
  },
  {
   "cell_type": "markdown",
   "id": "27dc7187",
   "metadata": {
    "id": "27dc7187"
   },
   "source": [
    "### Confusion Matrix"
   ]
  },
  {
   "cell_type": "code",
   "execution_count": 104,
   "id": "60_Qj85vIGfS",
   "metadata": {
    "colab": {
     "base_uri": "https://localhost:8080/"
    },
    "id": "60_Qj85vIGfS",
    "outputId": "77e91b63-f82d-4a7b-edb2-97e1149fb228"
   },
   "outputs": [
    {
     "name": "stdout",
     "output_type": "stream",
     "text": [
      "[[1115  430]\n",
      " [ 324 1236]]\n",
      "[[1211  334]\n",
      " [ 110 1450]]\n",
      "[[1060  485]\n",
      " [ 245 1315]]\n",
      "[[ 867  678]\n",
      " [ 173 1387]]\n"
     ]
    }
   ],
   "source": [
    "from sklearn.metrics import confusion_matrix\n",
    "print(confusion_matrix(y_test, y_lr))\n",
    "print(confusion_matrix(y_test, y_dtree))\n",
    "print(confusion_matrix(y_test, y_rf))\n",
    "print(confusion_matrix(y_test, y_important_pred))"
   ]
  },
  {
   "cell_type": "markdown",
   "id": "djLPFwKTI8-i",
   "metadata": {
    "id": "djLPFwKTI8-i"
   },
   "source": [
    "### ROC and AUC"
   ]
  },
  {
   "cell_type": "code",
   "execution_count": 105,
   "id": "27ojdAVvIJJO",
   "metadata": {
    "colab": {
     "base_uri": "https://localhost:8080/"
    },
    "id": "27ojdAVvIJJO",
    "outputId": "5fe5954c-09fc-45ad-faf2-4ff385a3d341",
    "scrolled": true
   },
   "outputs": [
    {
     "name": "stdout",
     "output_type": "stream",
     "text": [
      "0.7569952701020662\n",
      "0.8566529748568583\n",
      "0.7645164301717701\n",
      "0.7251338063231266\n"
     ]
    }
   ],
   "source": [
    "from sklearn.metrics import roc_curve, auc\n",
    "fpr, tpr, thresholds = roc_curve(y_test, y_lr, pos_label=1) # pos_label: positive label\n",
    "print(auc(fpr, tpr))\n",
    "fpr, tpr, thresholds = roc_curve(y_test, y_dtree, pos_label=1) # pos_label: positive label\n",
    "print(auc(fpr, tpr))\n",
    "fpr, tpr, thresholds = roc_curve(y_test, y_rf, pos_label=1) # pos_label: positive label\n",
    "print(auc(fpr, tpr))\n",
    "fpr, tpr, thresholds = roc_curve(y_test, y_important_pred,pos_label = 1)\n",
    "print(auc(fpr, tpr))"
   ]
  },
  {
   "cell_type": "code",
   "execution_count": 120,
   "id": "-NUt88EGIMhe",
   "metadata": {
    "colab": {
     "base_uri": "https://localhost:8080/"
    },
    "id": "-NUt88EGIMhe",
    "outputId": "68fb55a0-9184-46cd-e01a-dc6b9e7ff6d4"
   },
   "outputs": [
    {
     "name": "stdout",
     "output_type": "stream",
     "text": [
      "              precision    recall  f1-score   support\n",
      "\n",
      "           0       0.77      0.72      0.74      1545\n",
      "           1       0.74      0.79      0.76      1560\n",
      "\n",
      "    accuracy                           0.75      3105\n",
      "   macro avg       0.75      0.75      0.75      3105\n",
      "weighted avg       0.75      0.75      0.75      3105\n",
      "\n",
      "              precision    recall  f1-score   support\n",
      "\n",
      "           0       0.94      0.79      0.86      1545\n",
      "           1       0.82      0.95      0.88      1560\n",
      "\n",
      "    accuracy                           0.87      3105\n",
      "   macro avg       0.88      0.87      0.87      3105\n",
      "weighted avg       0.88      0.87      0.87      3105\n",
      "\n",
      "              precision    recall  f1-score   support\n",
      "\n",
      "           0       0.80      0.67      0.73      1545\n",
      "           1       0.72      0.83      0.77      1560\n",
      "\n",
      "    accuracy                           0.75      3105\n",
      "   macro avg       0.76      0.75      0.75      3105\n",
      "weighted avg       0.76      0.75      0.75      3105\n",
      "\n",
      "              precision    recall  f1-score   support\n",
      "\n",
      "           0       0.82      0.56      0.67      1545\n",
      "           1       0.67      0.88      0.76      1560\n",
      "\n",
      "    accuracy                           0.72      3105\n",
      "   macro avg       0.74      0.72      0.71      3105\n",
      "weighted avg       0.74      0.72      0.71      3105\n",
      "\n"
     ]
    }
   ],
   "source": [
    "from sklearn.metrics import classification_report\n",
    "print(classification_report(y_test, y_lr))\n",
    "print(classification_report(y_test, y_dtree))\n",
    "print(classification_report(y_test, y_rf))\n",
    "print(classification_report(y_test, y_important_pred))\n"
   ]
  },
  {
   "cell_type": "markdown",
   "id": "99087a9e",
   "metadata": {},
   "source": [
    "Conclution\n",
    "- Gender tidak berpengaruh pada Customer Churn\n",
    "- Customer yang berlangganan lama cenderung lebih setia \n",
    "- Customer yang berlangganan Month to month cenderung lebih gampang untuk churn\n",
    "- Semakin lama customer berlangganan maka total pembayaran semakin tinggi\n",
    "- Customer yang Monthly Charges-nya kecil cenderung lebih setia\n",
    "- Berdasarkan beberapa evaluasi yang dilakukan, model yang paling optimal adalah Decision Tree\n",
    "- Customer yang bukan Senior Citizen cenderung lebih gampang untuk churn "
   ]
  },
  {
   "attachments": {},
   "cell_type": "markdown",
   "id": "4ab4b4c6",
   "metadata": {},
   "source": [
    "Rekomendasi \n",
    "- Untuk mengurangi Churn Rate, perusahaan seharusnya berusaha mempengaruhi customer agar mengambil kontrak yang lebih panjang.\n",
    "- Perusahaan berusaha menggiring customer untuk mengambil Payment Method selain Electronic check"
   ]
  },
  {
   "cell_type": "code",
   "execution_count": null,
   "id": "e50311d8",
   "metadata": {},
   "outputs": [],
   "source": []
  }
 ],
 "metadata": {
  "colab": {
   "collapsed_sections": [
    "5521ced9"
   ],
   "name": "fp (2).ipynb",
   "provenance": []
  },
  "kernelspec": {
   "display_name": "Python 3 (ipykernel)",
   "language": "python",
   "name": "python3"
  },
  "language_info": {
   "codemirror_mode": {
    "name": "ipython",
    "version": 3
   },
   "file_extension": ".py",
   "mimetype": "text/x-python",
   "name": "python",
   "nbconvert_exporter": "python",
   "pygments_lexer": "ipython3",
   "version": "3.9.7"
  }
 },
 "nbformat": 4,
 "nbformat_minor": 5
}
